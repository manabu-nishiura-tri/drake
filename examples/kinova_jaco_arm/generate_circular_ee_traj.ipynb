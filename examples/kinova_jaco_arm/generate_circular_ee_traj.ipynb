{
 "cells": [
  {
   "cell_type": "code",
   "execution_count": 35,
   "id": "d72ee171",
   "metadata": {},
   "outputs": [],
   "source": [
    "import numpy as np\n",
    "from IPython.display import HTML, display\n",
    "from pydrake.all import (\n",
    "    AbstractValue, \n",
    "    ConstantVectorSource,\n",
    "    Demultiplexer,\n",
    "    DiagramBuilder,\n",
    "    LeafSystem,\n",
    "    MeshcatVisualizer,\n",
    "    MeshcatVisualizerParams,\n",
    "    ModelInstanceIndex,\n",
    "    MultibodyPlant,\n",
    "    PassThrough,\n",
    "    PiecewisePose,\n",
    "    RevoluteJoint,\n",
    "    RigidTransform,\n",
    "    RotationMatrix,\n",
    "    Simulator,\n",
    "    StartMeshcat,\n",
    "    TrajectorySource,\n",
    "    AddMultibodyPlantSceneGraph,\n",
    "    Parser,\n",
    ")\n",
    "import math"
   ]
  },
  {
   "cell_type": "code",
   "execution_count": 36,
   "id": "127e45c6",
   "metadata": {},
   "outputs": [],
   "source": [
    "from manipulation import running_as_notebook\n",
    "from manipulation.meshcat_utils import AddMeshcatTriad"
   ]
  },
  {
   "cell_type": "code",
   "execution_count": 37,
   "id": "d98ff9b9",
   "metadata": {},
   "outputs": [
    {
     "name": "stderr",
     "output_type": "stream",
     "text": [
      "INFO:drake:Meshcat listening for connections at http://localhost:7002\n"
     ]
    }
   ],
   "source": [
    "meshcat = StartMeshcat()"
   ]
  },
  {
   "cell_type": "code",
   "execution_count": 38,
   "id": "ed52f91f",
   "metadata": {},
   "outputs": [],
   "source": [
    "class PoseTrajectorySource(LeafSystem):\n",
    "    def __init__(self, pose_trajectory):\n",
    "        LeafSystem.__init__(self)\n",
    "        self._pose_trajectory = pose_trajectory\n",
    "        self.DeclareAbstractOutputPort(\n",
    "            \"pose\", lambda: AbstractValue.Make(RigidTransform()), self.CalcPose\n",
    "        )\n",
    "        \n",
    "    def CalcPose(self, context, output):\n",
    "        output.set_value(self._pose_trajectory.GetPose(context.get_time()))"
   ]
  },
  {
   "cell_type": "code",
   "execution_count": 39,
   "id": "8bc111c7",
   "metadata": {},
   "outputs": [],
   "source": [
    "def AddJaco(plant, collision_model=\"no_collision\"):\n",
    "    parser = Parser(plant)\n",
    "    jaco = parser.AddModelsFromUrl(\"package://drake/manipulation/models/jaco_description/urdf/j2s7s300_sphere_collision.urdf\")[0]\n",
    "    plant.WeldFrames(plant.world_frame(), plant.GetFrameByName(\"base\"))\n",
    "    \n",
    "    # set default positions:\n",
    "    q0 = [1.8, 3.44, 3.14, 0.76, 4.63, 4.49, 5.03, 0.0, 0.0, 0.0]\n",
    "    index = 0\n",
    "    for joint_index in plant.GetJointIndices(jaco):\n",
    "        joint = plant.get_mutable_joint(joint_index)\n",
    "        if isinstance(joint, RevoluteJoint):\n",
    "            joint.set_default_angle(q0[index])\n",
    "            index += 1\n",
    "    return jaco"
   ]
  },
  {
   "cell_type": "code",
   "execution_count": 40,
   "id": "5a4994c5",
   "metadata": {},
   "outputs": [],
   "source": [
    "def MakeJacoStation(\n",
    "    model_directives=None,\n",
    "    filename=None,\n",
    "    time_step=0.002,\n",
    "):\n",
    "    \"\"\"\n",
    "    Creates a kinova jaco station system, which is a sub-diagram containing:\n",
    "     - A MultibodyPlant with populated via the Parser from the\n",
    "       `model_directives` argument AND the `filename` argument.\n",
    "     - A SceneGraph\n",
    "     - For each model instance starting with ``\n",
    "     \n",
    "    Args:\n",
    "        model_directives: a string containing any model directives to be parsed\n",
    "        \n",
    "        filename: a string containing the name of an sdf, urdf, mujoco xml. or\n",
    "        model directives yaml file.\n",
    "        \n",
    "        time_step: the standard MultibodyPlant time step.\n",
    "\n",
    "    \"\"\"\n",
    "    builder = DiagramBuilder()\n",
    "    \n",
    "    # add kinova jaco arm\n",
    "    plant, scene_graph = AddMultibodyPlantSceneGraph(\n",
    "        builder, time_step=time_step\n",
    "    )\n",
    "    parser = Parser(plant)\n",
    "    if model_directives:\n",
    "        parser.AddModelsFromString(model_directives, \".dmd.yaml\")\n",
    "    if filename:\n",
    "        parser.AddModelsFromUrl(filename)\n",
    "        plant.WeldFrames(plant.world_frame(), plant.GetFrameByName(\"base\"))\n",
    "    plant.Finalize()\n",
    "    \n",
    "    for i in range(plant.num_model_instances()):\n",
    "        model_instance = ModelInstanceIndex(i)\n",
    "        model_instance_name = plant.GetModelInstanceName(model_instance)\n",
    "        \n",
    "        num_jaco_positions = plant.num_positions(model_instance)\n",
    "        \n",
    "        # PassThrough systems so that I can export the input port\n",
    "        jaco_position = builder.AddSystem(PassThrough(num_jaco_positions))\n",
    "        builder.ExportInput(\n",
    "            jaco_position.get_input_port(),\n",
    "            model_instance_name + \"_position\",\n",
    "        )\n",
    "        builder.ExportOutput(\n",
    "            jaco_position.get_output_port(),\n",
    "            model_instance_name + \"_position_commanded\",\n",
    "        )\n",
    "        \n",
    "        # Export the jaco \"state\" outputs\n",
    "        \"\"\"\n",
    "        demux = builder.AddSystem(\n",
    "            Demultiplexer(2 * num_jaco_positions, num_jaco_positions)\n",
    "        )\n",
    "        builder.Connect(\n",
    "            plant.get_state_output_port(model_instance),\n",
    "            demux.get_input_port(),\n",
    "        )\n",
    "        builder.ExportOutput(\n",
    "            demux.get_output_port(0),\n",
    "            model_instance_name + \"_position_measured\",\n",
    "        )\n",
    "        builder.ExportOutput(\n",
    "            demux.get_output_port(1),\n",
    "            model_instance_name + \"_velocity_estimated\",\n",
    "        )\n",
    "        builder.ExportOutput(\n",
    "            plant.get_state_output_port(model_instance),\n",
    "            model_instance_name + \"_state_estimated\",\n",
    "        )\n",
    "        \"\"\"\n",
    "        \n",
    "        # Make the plant for the jaco controller to use\n",
    "        controller_plant = MultibodyPlant(time_step=time_step)\n",
    "        controller_jaco = AddJaco(controller_plant)\n",
    "        controller_plant.Finalize()\n",
    "    \n",
    "    # Export \"cheat\" ports.\n",
    "    builder.ExportOutput(scene_graph.get_query_output_port(), \"query_object\")\n",
    "    \n",
    "    diagram = builder.Build()\n",
    "    diagram.set_name(\"JacoStation\")\n",
    "    return diagram"
   ]
  },
  {
   "cell_type": "code",
   "execution_count": 41,
   "id": "bee7fd88",
   "metadata": {},
   "outputs": [],
   "source": [
    "class Jaco_Painter:\n",
    "    def __init__(self, traj=None):\n",
    "        builder = DiagramBuilder()\n",
    "        # set up the systems of jaco station\n",
    "        self.station = MakeJacoStation(\n",
    "            filename=\"package://drake/manipulation/models/jaco_description/urdf/j2s7s300_sphere_collision.urdf\")\n",
    "        \n",
    "        builder.AddSystem(self.station)\n",
    "        self.plant = self.station.GetSubsystemByName(\"plant\")\n",
    "        \"\"\"\n",
    "        controller_plant = self.station.GetSubsystemByName(\n",
    "            \"jaco_controller\"\n",
    "        ).get_multibody_plant_for_control()\n",
    "        \"\"\"\n",
    "        \n",
    "        # add trajectory source\n",
    "        if traj is not None:\n",
    "            traj_source = builder.AddSystem(PoseTrajectorySource(traj))\n",
    "            # TODO:\n",
    "            # add controller\n",
    "        \n",
    "        params = MeshcatVisualizerParams()\n",
    "        params.delete_on_initialization_event = False\n",
    "        self.visualizer = MeshcatVisualizer.AddToBuilder(\n",
    "            builder,\n",
    "            self.station.GetOutputPort(\"query_object\"),\n",
    "            meshcat,\n",
    "            params\n",
    "        )\n",
    "        \n",
    "        self.diagram = builder.Build()\n",
    "        self.gripper_frame = self.plant.GetFrameByName(\"j2s7s300_end_effector\")\n",
    "        self.world_frame = self.plant.world_frame()\n",
    "        \n",
    "        context = self.CreateDefaultContext()\n",
    "        self.diagram.ForcedPublish(context)\n",
    "        \n",
    "    def visualize_frame(self, name, X_WF, length=0.15, radius=0.006):\n",
    "        AddMeshcatTriad(\n",
    "            meshcat, \"painter/\" + name, length=length, radius=radius, X_PT=X_WF\n",
    "        )\n",
    "        \n",
    "    def CreateDefaultContext(self):\n",
    "        context = self.diagram.CreateDefaultContext()\n",
    "        plant_context = self.diagram.GetMutableSubsystemContext(\n",
    "            self.plant, context\n",
    "        )\n",
    "        station_context = self.diagram.GetMutableSubsystemContext(\n",
    "            self.station, context\n",
    "        )\n",
    "        \n",
    "        # provide initial states\n",
    "        q0 = np.array(\n",
    "            [\n",
    "                1.8,\n",
    "                3.44,\n",
    "                3.14,\n",
    "                0.76,\n",
    "                4.63,\n",
    "                4.49,\n",
    "                5.03,\n",
    "            ]\n",
    "        )\n",
    "        # get q_size from MbP\n",
    "        num_positions = self.plant.num_positions()\n",
    "        print(\"nq: {}\".format(num_positions))\n",
    "        num_velocities = self.plant.num_velocities()\n",
    "        print(\"nq: {}\".format(num_velocities))\n",
    "        q0_ = np.zeros(num_positions)\n",
    "        joint_index = 0\n",
    "        for i in q0:\n",
    "            q0_[joint_index] = i\n",
    "            joint_index += 1\n",
    "        print(q0_)\n",
    "        jaco = self.plant.GetModelInstanceByName(\"j2s7s300\")\n",
    "        self.plant.SetPositions(plant_context, jaco, q0_)\n",
    "        self.plant.SetVelocities(plant_context, jaco, np.zeros(num_velocities))\n",
    "        return context\n",
    "    \n",
    "    def get_X_WG(self, context=None):\n",
    "        if not context:\n",
    "            context = self.CreateDefaultContext()\n",
    "        plant_context = self.plant.GetMyMutableContextFromRoot(context)\n",
    "        X_WG = self.plant.CalcRelativeTransform(\n",
    "            plant_context, frame_A=self.world_frame, frame_B=self.gripper_frame\n",
    "        )\n",
    "        return X_WG\n",
    "        \n",
    "    def paint(self, sim_duration=20.0):\n",
    "        context = self.CreateDefaultContext()\n",
    "        simulator = Simulator(self.diagram, context)\n",
    "        simulator.set_target_realtime_rate(1.0)\n",
    "        \n",
    "        duration = sim_duration if running_as_notebook else 0.01\n",
    "        simulator.AdvanceTo(duration)"
   ]
  },
  {
   "cell_type": "code",
   "execution_count": 42,
   "id": "0817dfbf",
   "metadata": {},
   "outputs": [
    {
     "name": "stdout",
     "output_type": "stream",
     "text": [
      "nq: 10\n",
      "nq: 10\n",
      "[1.8  3.44 3.14 0.76 4.63 4.49 5.03 0.   0.   0.  ]\n"
     ]
    }
   ],
   "source": [
    "painter = Jaco_Painter()"
   ]
  },
  {
   "cell_type": "code",
   "execution_count": 43,
   "id": "e043a2f9",
   "metadata": {
    "scrolled": true
   },
   "outputs": [
    {
     "name": "stdout",
     "output_type": "stream",
     "text": [
      "nq: 10\n",
      "nq: 10\n",
      "[1.8  3.44 3.14 0.76 4.63 4.49 5.03 0.   0.   0.  ]\n"
     ]
    }
   ],
   "source": [
    "X_WG = painter.get_X_WG()\n",
    "painter.visualize_frame(\"gripper_current\", X_WG)"
   ]
  },
  {
   "cell_type": "code",
   "execution_count": 44,
   "id": "5b78e76d",
   "metadata": {},
   "outputs": [],
   "source": [
    "radius = 0.2\n",
    "p0 = [0.45, 0.0, 0.4]\n",
    "R0 = RotationMatrix(np.array([[0, 1, 0], [0, 0, -1], [-1, 0, 0]]).T)\n",
    "X_WorldCenter = RigidTransform(R0, p0)\n",
    "\n",
    "num_key_frames = 10\n",
    "thetas = np.linspace(0, 2 * np.pi, num_key_frames)"
   ]
  },
  {
   "cell_type": "code",
   "execution_count": 45,
   "id": "ab238d98",
   "metadata": {},
   "outputs": [],
   "source": [
    "def compose_circular_key_frames(thetas, X_WorldCenter, X_WorldGripper_init, radius):\n",
    "    \"\"\"\n",
    "    returns: a list of RigidTransforms\n",
    "    \"\"\"\n",
    "    key_frame_poses_in_world = [X_WorldGripper_init]\n",
    "    for theta in thetas:\n",
    "        p_WorldCenter = X_WorldCenter.translation()\n",
    "        # calculate each coordinates\n",
    "        # TODO:\n",
    "        # change radius depending on theta\n",
    "        p_i = [radius + radius * math.cos(theta), \n",
    "               radius + radius * math.sin(theta),\n",
    "               p_WorldCenter[2]\n",
    "              ]\n",
    "        this_pose = RigidTransform(RotationMatrix().MakeZRotation(theta), p_i)\n",
    "        # TODO:\n",
    "        key_frame_poses_in_world.append(this_pose)\n",
    "        \n",
    "    return key_frame_poses_in_world"
   ]
  },
  {
   "cell_type": "code",
   "execution_count": 46,
   "id": "8512483b",
   "metadata": {},
   "outputs": [
    {
     "name": "stdout",
     "output_type": "stream",
     "text": [
      "nq: 10\n",
      "nq: 10\n",
      "[1.8  3.44 3.14 0.76 4.63 4.49 5.03 0.   0.   0.  ]\n"
     ]
    }
   ],
   "source": [
    "def visualize_key_frames(frame_poses):\n",
    "    for i, pose in enumerate(frame_poses):\n",
    "        painter.visualize_frame(\"frame_{}\".format(i), pose, length=0.05)\n",
    "        \n",
    "key_frame_poses = compose_circular_key_frames(\n",
    "    thetas, X_WorldCenter, painter.get_X_WG(), radius\n",
    ")\n",
    "visualize_key_frames(key_frame_poses)"
   ]
  },
  {
   "cell_type": "code",
   "execution_count": 47,
   "id": "045eae84",
   "metadata": {},
   "outputs": [
    {
     "name": "stdout",
     "output_type": "stream",
     "text": [
      "nq: 10\n",
      "nq: 10\n",
      "[1.8  3.44 3.14 0.76 4.63 4.49 5.03 0.   0.   0.  ]\n"
     ]
    }
   ],
   "source": [
    "X_WorldGripper_init = painter.get_X_WG()\n",
    "total_time = 20\n",
    "key_frame_poses = compose_circular_key_frames(\n",
    "    thetas, X_WorldCenter, X_WorldGripper_init, radius\n",
    ")\n",
    "times = np.linspace(0, total_time, num_key_frames + 1)\n",
    "traj = PiecewisePose.MakeLinear(times, key_frame_poses)"
   ]
  },
  {
   "cell_type": "code",
   "execution_count": 48,
   "id": "66c86724",
   "metadata": {},
   "outputs": [
    {
     "name": "stdout",
     "output_type": "stream",
     "text": [
      "nq: 10\n",
      "nq: 10\n",
      "[1.8  3.44 3.14 0.76 4.63 4.49 5.03 0.   0.   0.  ]\n"
     ]
    }
   ],
   "source": [
    "painter = Jaco_Painter(traj)"
   ]
  },
  {
   "cell_type": "code",
   "execution_count": 49,
   "id": "a83accf4",
   "metadata": {},
   "outputs": [
    {
     "name": "stdout",
     "output_type": "stream",
     "text": [
      "nq: 10\n",
      "nq: 10\n",
      "[1.8  3.44 3.14 0.76 4.63 4.49 5.03 0.   0.   0.  ]\n"
     ]
    },
    {
     "ename": "RuntimeError",
     "evalue": "Actuation input port for model instance j2s7s300 must be connected.",
     "output_type": "error",
     "traceback": [
      "\u001b[0;31m---------------------------------------------------------------------------\u001b[0m",
      "\u001b[0;31mRuntimeError\u001b[0m                              Traceback (most recent call last)",
      "\u001b[0;32m/tmp/ipykernel_224146/1915373142.py\u001b[0m in \u001b[0;36m<module>\u001b[0;34m\u001b[0m\n\u001b[0;32m----> 1\u001b[0;31m \u001b[0mpainter\u001b[0m\u001b[0;34m.\u001b[0m\u001b[0mpaint\u001b[0m\u001b[0;34m(\u001b[0m\u001b[0msim_duration\u001b[0m\u001b[0;34m=\u001b[0m\u001b[0mtotal_time\u001b[0m\u001b[0;34m)\u001b[0m\u001b[0;34m\u001b[0m\u001b[0;34m\u001b[0m\u001b[0m\n\u001b[0m",
      "\u001b[0;32m/tmp/ipykernel_224146/1406566738.py\u001b[0m in \u001b[0;36mpaint\u001b[0;34m(self, sim_duration)\u001b[0m\n\u001b[1;32m     93\u001b[0m \u001b[0;34m\u001b[0m\u001b[0m\n\u001b[1;32m     94\u001b[0m         \u001b[0mduration\u001b[0m \u001b[0;34m=\u001b[0m \u001b[0msim_duration\u001b[0m \u001b[0;32mif\u001b[0m \u001b[0mrunning_as_notebook\u001b[0m \u001b[0;32melse\u001b[0m \u001b[0;36m0.01\u001b[0m\u001b[0;34m\u001b[0m\u001b[0;34m\u001b[0m\u001b[0m\n\u001b[0;32m---> 95\u001b[0;31m         \u001b[0msimulator\u001b[0m\u001b[0;34m.\u001b[0m\u001b[0mAdvanceTo\u001b[0m\u001b[0;34m(\u001b[0m\u001b[0mduration\u001b[0m\u001b[0;34m)\u001b[0m\u001b[0;34m\u001b[0m\u001b[0;34m\u001b[0m\u001b[0m\n\u001b[0m",
      "\u001b[0;31mRuntimeError\u001b[0m: Actuation input port for model instance j2s7s300 must be connected."
     ]
    }
   ],
   "source": [
    "painter.paint(sim_duration=total_time)"
   ]
  },
  {
   "cell_type": "code",
   "execution_count": null,
   "id": "ada05610",
   "metadata": {},
   "outputs": [],
   "source": []
  },
  {
   "cell_type": "code",
   "execution_count": null,
   "id": "49efb736",
   "metadata": {},
   "outputs": [],
   "source": []
  }
 ],
 "metadata": {
  "kernelspec": {
   "display_name": "Python 3 (ipykernel)",
   "language": "python",
   "name": "python3"
  },
  "language_info": {
   "codemirror_mode": {
    "name": "ipython",
    "version": 3
   },
   "file_extension": ".py",
   "mimetype": "text/x-python",
   "name": "python",
   "nbconvert_exporter": "python",
   "pygments_lexer": "ipython3",
   "version": "3.10.6"
  }
 },
 "nbformat": 4,
 "nbformat_minor": 5
}

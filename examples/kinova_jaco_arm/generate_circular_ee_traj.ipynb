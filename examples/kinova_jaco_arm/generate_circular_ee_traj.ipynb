{
 "cells": [
  {
   "cell_type": "code",
   "execution_count": 1,
   "id": "d72ee171",
   "metadata": {},
   "outputs": [],
   "source": [
    "import numpy as np\n",
    "from IPython.display import HTML, display\n",
    "from pydrake.all import (\n",
    "    AbstractValue, \n",
    "    ConstantVectorSource,\n",
    "    Demultiplexer,\n",
    "    DiagramBuilder,\n",
    "    DifferentialInverseKinematicsIntegrator,\n",
    "    DifferentialInverseKinematicsParameters,\n",
    "    DrakeLcm,\n",
    "    DrakeLcmParams,\n",
    "    InverseDynamicsController,\n",
    "    LeafSystem,\n",
    "    LcmPublisherSystem,\n",
    "    LogVectorOutput,\n",
    "    MeshcatVisualizer,\n",
    "    MeshcatVisualizerParams,\n",
    "    ModelInstanceIndex,\n",
    "    MultibodyPlant,\n",
    "    PassThrough,\n",
    "    PiecewisePose,\n",
    "    RevoluteJoint,\n",
    "    RigidTransform,\n",
    "    RotationMatrix,\n",
    "    Simulator,\n",
    "    StartMeshcat,\n",
    "    StateInterpolatorWithDiscreteDerivative,\n",
    "    TrajectorySource,\n",
    "    AddMultibodyPlantSceneGraph,\n",
    "    Parser,\n",
    ")\n",
    "from drake import lcmt_jaco_status\n",
    "import math\n",
    "from IPython.display import SVG, display\n",
    "import pydot\n",
    "import pydrake.systems.lcm as mut\n",
    "import matplotlib.pyplot as plt"
   ]
  },
  {
   "cell_type": "code",
   "execution_count": 2,
   "id": "127e45c6",
   "metadata": {},
   "outputs": [],
   "source": [
    "from manipulation import running_as_notebook\n",
    "from manipulation.meshcat_utils import AddMeshcatTriad"
   ]
  },
  {
   "cell_type": "code",
   "execution_count": 3,
   "id": "d98ff9b9",
   "metadata": {},
   "outputs": [
    {
     "name": "stderr",
     "output_type": "stream",
     "text": [
      "INFO:drake:Meshcat listening for connections at http://localhost:7000\n"
     ]
    }
   ],
   "source": [
    "meshcat = StartMeshcat()"
   ]
  },
  {
   "cell_type": "code",
   "execution_count": 4,
   "id": "ed52f91f",
   "metadata": {},
   "outputs": [],
   "source": [
    "class PoseTrajectorySource(LeafSystem):\n",
    "    def __init__(self, pose_trajectory):\n",
    "        LeafSystem.__init__(self)\n",
    "        self._pose_trajectory = pose_trajectory\n",
    "        self.DeclareAbstractOutputPort(\n",
    "            \"pose\", lambda: AbstractValue.Make(RigidTransform()), self.CalcPose\n",
    "        )\n",
    "        \n",
    "    def CalcPose(self, context, output):\n",
    "        output.set_value(self._pose_trajectory.GetPose(context.get_time()))"
   ]
  },
  {
   "cell_type": "code",
   "execution_count": 5,
   "id": "8bc111c7",
   "metadata": {},
   "outputs": [],
   "source": [
    "def AddJaco(plant, collision_model=\"no_collision\"):\n",
    "    parser = Parser(plant)\n",
    "    jaco = parser.AddModelsFromUrl(\"package://drake/manipulation/models/jaco_description/urdf/j2s7s300_arm.urdf\")[0]\n",
    "    plant.WeldFrames(plant.world_frame(), plant.GetFrameByName(\"base\"))\n",
    "    \n",
    "    # set default positions:\n",
    "    q0 = [1.8, 3.44, 3.14, 0.76, 4.63, 4.49, 5.03]\n",
    "    index = 0\n",
    "    for joint_index in plant.GetJointIndices(jaco):\n",
    "        joint = plant.get_mutable_joint(joint_index)\n",
    "        if isinstance(joint, RevoluteJoint):\n",
    "            joint.set_default_angle(q0[index])\n",
    "            index += 1\n",
    "    return jaco"
   ]
  },
  {
   "cell_type": "code",
   "execution_count": 6,
   "id": "5a4994c5",
   "metadata": {},
   "outputs": [],
   "source": [
    "def MakeJacoStation(\n",
    "    model_directives=None,\n",
    "    filename=None,\n",
    "    time_step=0.002,\n",
    "    jaco_prefix=\"j2s7s300\",\n",
    "):\n",
    "    \"\"\"\n",
    "    Creates a kinova jaco station system, which is a sub-diagram containing:\n",
    "     - A MultibodyPlant with populated via the Parser from the\n",
    "       `model_directives` argument AND the `filename` argument.\n",
    "     - A SceneGraph\n",
    "     - For each model instance starting with ``\n",
    "     \n",
    "    Args:\n",
    "        model_directives: a string containing any model directives to be parsed\n",
    "        \n",
    "        filename: a string containing the name of an sdf, urdf, mujoco xml. or\n",
    "        model directives yaml file.\n",
    "        \n",
    "        time_step: the standard MultibodyPlant time step.\n",
    "\n",
    "    \"\"\"\n",
    "    builder = DiagramBuilder()\n",
    "    \n",
    "    # add kinova jaco arm\n",
    "    plant, scene_graph = AddMultibodyPlantSceneGraph(\n",
    "        builder, time_step=time_step\n",
    "    )\n",
    "    parser = Parser(plant)\n",
    "    if model_directives:\n",
    "        parser.AddModelsFromString(model_directives, \".dmd.yaml\")\n",
    "    if filename:\n",
    "        parser.AddModelsFromUrl(filename)\n",
    "        plant.WeldFrames(plant.world_frame(), plant.GetFrameByName(\"base\"))\n",
    "    plant.Finalize()\n",
    "    \n",
    "    for i in range(plant.num_model_instances()):\n",
    "        model_instance = ModelInstanceIndex(i)\n",
    "        model_instance_name = plant.GetModelInstanceName(model_instance)\n",
    "        print(\"loaded model of {}\".format(model_instance_name))\n",
    "        \n",
    "        if model_instance_name.startswith(jaco_prefix):\n",
    "            num_jaco_positions = plant.num_positions(model_instance)\n",
    "        \n",
    "            # PassThrough systems so that I can export the input port\n",
    "            jaco_position = builder.AddSystem(PassThrough(num_jaco_positions))\n",
    "            builder.ExportInput(\n",
    "                jaco_position.get_input_port(),\n",
    "                model_instance_name + \"_position\",\n",
    "            )\n",
    "            builder.ExportOutput(\n",
    "                jaco_position.get_output_port(),\n",
    "                model_instance_name + \"_position_commanded\",\n",
    "            )\n",
    "        \n",
    "            # Export the jaco \"state\" outputs\n",
    "            demux = builder.AddSystem(\n",
    "                Demultiplexer(2 * num_jaco_positions)\n",
    "            )\n",
    "            builder.Connect(\n",
    "                plant.get_state_output_port(model_instance),\n",
    "                demux.get_input_port(),\n",
    "            )\n",
    "            builder.ExportOutput(\n",
    "                demux.get_output_port(0),\n",
    "                model_instance_name + \"_position_measured\",\n",
    "            )\n",
    "            position_measured_logger = LogVectorOutput(demux.get_output_port(0), builder)\n",
    "            builder.ExportOutput(\n",
    "                demux.get_output_port(1),\n",
    "                model_instance_name + \"_velocity_estimated\",\n",
    "            )\n",
    "            velocity_measured_logger = LogVectorOutput(demux.get_output_port(1), builder)\n",
    "            builder.ExportOutput(\n",
    "                plant.get_state_output_port(model_instance),\n",
    "                model_instance_name + \"_state_estimated\",\n",
    "            )\n",
    "            all_state_logger = LogVectorOutput(plant.get_state_output_port(model_instance), builder)\n",
    "        \n",
    "            # Make the plant for the jaco controller to use\n",
    "            controller_plant = MultibodyPlant(time_step=time_step)\n",
    "            controller_jaco = AddJaco(controller_plant)\n",
    "            controller_plant.Finalize()\n",
    "        \n",
    "            # Add the jaco controller\n",
    "            print(\"num_jaco_positions: {}\".format(num_jaco_positions))\n",
    "            kp = [100] * num_jaco_positions\n",
    "            ki = [1] * num_jaco_positions\n",
    "            jaco_controller = builder.AddSystem(\n",
    "                InverseDynamicsController(\n",
    "                    controller_plant, kp, ki,\n",
    "                    kd=2.0 * np.sqrt(kp),\n",
    "                    has_reference_acceleration=False,\n",
    "                )\n",
    "            )\n",
    "            jaco_controller.set_name(model_instance_name + \"_controller\")\n",
    "            builder.Connect(\n",
    "                plant.get_state_output_port(model_instance),\n",
    "                jaco_controller.get_input_port_estimated_state(),\n",
    "            )\n",
    "            builder.Connect(\n",
    "                jaco_controller.get_output_port_control(),\n",
    "                plant.get_actuation_input_port(model_instance),\n",
    "            )\n",
    "            # Add discrete derivative to command velocities.\n",
    "            desired_state_from_position = builder.AddSystem(\n",
    "                StateInterpolatorWithDiscreteDerivative(\n",
    "                    num_jaco_positions,\n",
    "                    time_step,\n",
    "                    suppress_initial_transient=True,\n",
    "                )\n",
    "            )\n",
    "            desired_state_from_position.set_name(\n",
    "                model_instance_name + \"_desired_state_from_position\"\n",
    "            )\n",
    "            builder.Connect(\n",
    "                desired_state_from_position.get_output_port(),\n",
    "                jaco_controller.get_input_port_desired_state(),\n",
    "            )\n",
    "            builder.Connect(\n",
    "                jaco_position.get_output_port(),\n",
    "                desired_state_from_position.get_input_port(),\n",
    "            )\n",
    "            \n",
    "            # Export external forces.\n",
    "            builder.ExportOutput(\n",
    "                plant.get_generalized_contact_forces_output_port(\n",
    "                    model_instance\n",
    "                ),\n",
    "                model_instance_name + \"_torque_external\",\n",
    "            )\n",
    "    \n",
    "    # Export \"cheat\" ports.\n",
    "    builder.ExportOutput(scene_graph.get_query_output_port(), \"query_object\")\n",
    "    builder.ExportOutput(\n",
    "        plant.get_contact_results_output_port(), \"contact_results\"\n",
    "    )\n",
    "    builder.ExportOutput(plant.get_body_poses_output_port(), \"body_poses\")\n",
    "    \n",
    "    diagram = builder.Build()\n",
    "    diagram.set_name(\"JacoStation\")\n",
    "    return diagram, position_measured_logger, velocity_measured_logger, all_state_logger"
   ]
  },
  {
   "cell_type": "code",
   "execution_count": 7,
   "id": "2f21d5ee",
   "metadata": {},
   "outputs": [],
   "source": [
    "def AddJacoDifferentialIK(builder, plant, frame=None):\n",
    "    params = DifferentialInverseKinematicsParameters(\n",
    "        plant.num_positions(), plant.num_velocities()\n",
    "    )\n",
    "    time_step = plant.time_step()\n",
    "    q0 = plant.GetPositions(plant.CreateDefaultContext())\n",
    "    params.set_nominal_joint_position(q0)\n",
    "    params.set_end_effector_angular_speed_limit(2)\n",
    "    params.set_end_effector_translational_velocity_limits(\n",
    "        [-2, -2, -2], [2, 2, 2]\n",
    "    )\n",
    "    jaco_velocity_limits = np.array([1.4, 1.4, 1.7, 1.3, 2.2, 2.3, 2.3])\n",
    "    params.set_joint_velocity_limits(\n",
    "        (-jaco_velocity_limits, jaco_velocity_limits)\n",
    "    )\n",
    "    params.set_joint_centering_gain(10 * np.eye(7))\n",
    "    if frame is not None:\n",
    "        frame = plant.GetFrameByName(\"j2s7s300_link_7\")\n",
    "    differential_ik = builder.AddSystem(\n",
    "        DifferentialInverseKinematicsIntegrator(\n",
    "            plant, \n",
    "            frame,\n",
    "            time_step,\n",
    "            params,\n",
    "            log_only_when_result_state_changes=True,\n",
    "        )\n",
    "    )\n",
    "    return differential_ik"
   ]
  },
  {
   "cell_type": "code",
   "execution_count": 8,
   "id": "bee7fd88",
   "metadata": {},
   "outputs": [],
   "source": [
    "class Jaco_Painter:\n",
    "    def __init__(self, traj=None, visualize_diagram=False):\n",
    "        builder = DiagramBuilder()\n",
    "        # set up the systems of jaco station\n",
    "        self.station, self.position_measured_logger, self.velocity_measured_logger, self.all_state_logger = MakeJacoStation(\n",
    "            filename=\"package://drake/manipulation/models/jaco_description/urdf/j2s7s300_arm_sphere_collision.urdf\")\n",
    "        \n",
    "        builder.AddSystem(self.station)\n",
    "        self.plant = self.station.GetSubsystemByName(\"plant\")\n",
    "        controller_plant = self.station.GetSubsystemByName(\n",
    "            \"j2s7s300_arm_controller\"\n",
    "        ).get_multibody_plant_for_control()\n",
    "        \n",
    "        # add trajectory source\n",
    "        if traj is not None:\n",
    "            traj_source = builder.AddSystem(PoseTrajectorySource(traj))\n",
    "            # add controller\n",
    "            self.controller = AddJacoDifferentialIK(\n",
    "                builder,\n",
    "                controller_plant,\n",
    "                frame=controller_plant.GetFrameByName(\"j2s7s300_link_7\"),\n",
    "            )\n",
    "            builder.Connect(\n",
    "                traj_source.get_output_port(),\n",
    "                self.controller.get_input_port(0),\n",
    "            )\n",
    "            builder.Connect(\n",
    "                self.station.GetOutputPort(\"j2s7s300_arm_state_estimated\"),\n",
    "                self.controller.GetInputPort(\"robot_state\"),\n",
    "            )\n",
    "            builder.Connect(\n",
    "                self.controller.get_output_port(),\n",
    "                self.station.GetInputPort(\"j2s7s300_arm_position\"),\n",
    "            )\n",
    "            \n",
    "        \n",
    "        params = MeshcatVisualizerParams()\n",
    "        params.delete_on_initialization_event = False\n",
    "        self.visualizer = MeshcatVisualizer.AddToBuilder(\n",
    "            builder,\n",
    "            self.station.GetOutputPort(\"query_object\"),\n",
    "            meshcat,\n",
    "            params\n",
    "        )\n",
    "        \n",
    "        self.diagram = builder.Build()\n",
    "        if visualize_diagram:\n",
    "            display(\n",
    "                SVG(\n",
    "                    pydot.graph_from_dot_data(\n",
    "                        self.diagram.GetGraphvizString(max_depth=2))[0].create_svg()))\n",
    "        self.gripper_frame = self.plant.GetFrameByName(\"j2s7s300_link_7\")\n",
    "        self.world_frame = self.plant.world_frame()\n",
    "        \n",
    "        context = self.CreateDefaultContext()\n",
    "        self.diagram.ForcedPublish(context)\n",
    "        \n",
    "    def visualize_frame(self, name, X_WF, length=0.15, radius=0.006):\n",
    "        AddMeshcatTriad(\n",
    "            meshcat, \"painter/\" + name, length=length, radius=radius, X_PT=X_WF\n",
    "        )\n",
    "        \n",
    "    def CreateDefaultContext(self):\n",
    "        context = self.diagram.CreateDefaultContext()\n",
    "        plant_context = self.diagram.GetMutableSubsystemContext(\n",
    "            self.plant, context\n",
    "        )\n",
    "        station_context = self.diagram.GetMutableSubsystemContext(\n",
    "            self.station, context\n",
    "        )\n",
    "        \n",
    "        # provide initial states\n",
    "        q0 = np.array(\n",
    "            [\n",
    "                1.8,\n",
    "                3.44,\n",
    "                3.14,\n",
    "                0.76,\n",
    "                4.63,\n",
    "                4.49,\n",
    "                5.03,\n",
    "            ]\n",
    "        )\n",
    "        # get q_size from MbP\n",
    "        num_positions = self.plant.num_positions()\n",
    "        print(\"nq: {}\".format(num_positions))\n",
    "        num_velocities = self.plant.num_velocities()\n",
    "        print(\"nqdot: {}\".format(num_velocities))\n",
    "        q0_ = np.zeros(num_positions)\n",
    "        joint_index = 0\n",
    "        for i in q0:\n",
    "            q0_[joint_index] = i\n",
    "            joint_index += 1\n",
    "        print(q0_)\n",
    "        jaco = self.plant.GetModelInstanceByName(\"j2s7s300_arm\")\n",
    "        self.plant.SetPositions(plant_context, jaco, q0_)\n",
    "        self.plant.SetVelocities(plant_context, jaco, np.zeros(num_velocities))\n",
    "        return context\n",
    "    \n",
    "    def get_X_WG(self, context=None):\n",
    "        if not context:\n",
    "            context = self.CreateDefaultContext()\n",
    "        plant_context = self.plant.GetMyMutableContextFromRoot(context)\n",
    "        X_WG = self.plant.CalcRelativeTransform(\n",
    "            plant_context, frame_A=self.world_frame, frame_B=self.gripper_frame\n",
    "        )\n",
    "        return X_WG\n",
    "        \n",
    "    def paint(self, sim_duration=20.0, get_log_data=True):\n",
    "        context = self.CreateDefaultContext()\n",
    "        simulator = Simulator(self.diagram, context)\n",
    "        simulator.set_target_realtime_rate(1.0)\n",
    "        \n",
    "        duration = sim_duration if running_as_notebook else 0.01\n",
    "        simulator.AdvanceTo(duration)\n",
    "        if get_log_data:\n",
    "            position_log = self.position_measured_logger.FindLog(context)\n",
    "            velocity_log = self.velocity_measured_logger.FindLog(context)\n",
    "            all_state_log = self.all_state_logger.FindLog(context)\n",
    "            return position_log, velocity_log, all_state_log\n",
    "        else:\n",
    "            pass"
   ]
  },
  {
   "cell_type": "code",
   "execution_count": 9,
   "id": "0817dfbf",
   "metadata": {},
   "outputs": [
    {
     "name": "stdout",
     "output_type": "stream",
     "text": [
      "loaded model of WorldModelInstance\n",
      "loaded model of DefaultModelInstance\n",
      "loaded model of j2s7s300_arm\n",
      "num_jaco_positions: 7\n"
     ]
    },
    {
     "data": {
      "image/svg+xml": [
       "<svg xmlns=\"http://www.w3.org/2000/svg\" xmlns:xlink=\"http://www.w3.org/1999/xlink\" width=\"2473pt\" height=\"1183pt\" viewBox=\"0.00 0.00 2472.98 1183.00\">\n",
       "<g id=\"graph0\" class=\"graph\" transform=\"scale(1 1) rotate(0) translate(4 1179)\">\n",
       "<title>_94329236056256</title>\n",
       "<polygon fill=\"white\" stroke=\"transparent\" points=\"-4,4 -4,-1179 2468.98,-1179 2468.98,4 -4,4\"/>\n",
       "<g id=\"clust1\" class=\"cluster\">\n",
       "<title>cluster94329236056256diagram</title>\n",
       "<polygon fill=\"none\" stroke=\"black\" points=\"8,-8 8,-1167 2456.98,-1167 2456.98,-8 8,-8\"/>\n",
       "<text text-anchor=\"middle\" x=\"1232.49\" y=\"-1151.8\" font-family=\"Times,serif\" font-size=\"14.00\">94329236056256</text>\n",
       "</g>\n",
       "<g id=\"clust4\" class=\"cluster\">\n",
       "<title>cluster94329236056256subsystems</title>\n",
       "<polygon fill=\"none\" stroke=\"white\" points=\"16,-16 16,-1136 2448.98,-1136 2448.98,-16 16,-16\"/>\n",
       "</g>\n",
       "<g id=\"clust5\" class=\"cluster\">\n",
       "<title>cluster94329236834416diagram</title>\n",
       "<polygon fill=\"none\" stroke=\"black\" points=\"24,-24 24,-1128 2188.98,-1128 2188.98,-24 24,-24\"/>\n",
       "<text text-anchor=\"middle\" x=\"1106.49\" y=\"-1112.8\" font-family=\"Times,serif\" font-size=\"14.00\">JacoStation</text>\n",
       "</g>\n",
       "<g id=\"clust6\" class=\"cluster\">\n",
       "<title>cluster94329236834416inputports</title>\n",
       "<polygon fill=\"lightgrey\" stroke=\"lightgrey\" points=\"32,-82 32,-157 281.98,-157 281.98,-82 32,-82\"/>\n",
       "<text text-anchor=\"middle\" x=\"156.99\" y=\"-141.8\" font-family=\"Times,serif\" font-size=\"14.00\">input ports</text>\n",
       "</g>\n",
       "<g id=\"clust7\" class=\"cluster\">\n",
       "<title>cluster94329236834416outputports</title>\n",
       "<polygon fill=\"lightgrey\" stroke=\"lightgrey\" points=\"1797.54,-644 1797.54,-1097 2168.41,-1097 2168.41,-644 1797.54,-644\"/>\n",
       "<text text-anchor=\"middle\" x=\"1982.98\" y=\"-1081.8\" font-family=\"Times,serif\" font-size=\"14.00\">output ports</text>\n",
       "</g>\n",
       "<g id=\"clust8\" class=\"cluster\">\n",
       "<title>cluster94329236834416subsystems</title>\n",
       "<polygon fill=\"none\" stroke=\"white\" points=\"301.98,-32 301.98,-636 2180.98,-636 2180.98,-32 301.98,-32\"/>\n",
       "</g>\n",
       "<!-- _94329236834416_u0 -->\n",
       "<g id=\"node1\" class=\"node\">\n",
       "<title>_94329236834416_u0</title>\n",
       "<ellipse fill=\"none\" stroke=\"blue\" cx=\"156.99\" cy=\"-108\" rx=\"116.98\" ry=\"18\"/>\n",
       "<text text-anchor=\"middle\" x=\"156.99\" y=\"-104.3\" font-family=\"Times,serif\" font-size=\"14.00\">j2s7s300_arm_position</text>\n",
       "</g>\n",
       "<!-- 94329236703840 -->\n",
       "<g id=\"node12\" class=\"node\">\n",
       "<title>94329236703840</title>\n",
       "<polygon fill=\"none\" stroke=\"black\" points=\"309.98,-97 309.98,-143 679.98,-143 679.98,-97 309.98,-97\"/>\n",
       "<text text-anchor=\"middle\" x=\"494.98\" y=\"-127.8\" font-family=\"Times,serif\" font-size=\"14.00\">drake/systems/PassThrough@000055cabca54a60</text>\n",
       "<polyline fill=\"none\" stroke=\"black\" points=\"309.98,-120 679.98,-120 \"/>\n",
       "<text text-anchor=\"middle\" x=\"402.48\" y=\"-104.8\" font-family=\"Times,serif\" font-size=\"14.00\">u</text>\n",
       "<polyline fill=\"none\" stroke=\"black\" points=\"494.98,-97 494.98,-120 \"/>\n",
       "<text text-anchor=\"middle\" x=\"587.48\" y=\"-104.8\" font-family=\"Times,serif\" font-size=\"14.00\">y</text>\n",
       "</g>\n",
       "<!-- _94329236834416_u0&#45;&gt;94329236703840 -->\n",
       "<g id=\"edge11\" class=\"edge\">\n",
       "<title>_94329236834416_u0-&gt;94329236703840:u0</title>\n",
       "<path fill=\"none\" stroke=\"blue\" d=\"M274.22,-108C282.48,-108 290.73,-108 298.83,-108\"/>\n",
       "<polygon fill=\"blue\" stroke=\"blue\" points=\"298.98,-111.5 308.98,-108 298.98,-104.5 298.98,-111.5\"/>\n",
       "</g>\n",
       "<!-- _94329236834416_y0 -->\n",
       "<g id=\"node2\" class=\"node\">\n",
       "<title>_94329236834416_y0</title>\n",
       "<ellipse fill=\"none\" stroke=\"green\" cx=\"1982.98\" cy=\"-1048\" rx=\"177.37\" ry=\"18\"/>\n",
       "<text text-anchor=\"middle\" x=\"1982.98\" y=\"-1044.3\" font-family=\"Times,serif\" font-size=\"14.00\">j2s7s300_arm_position_commanded</text>\n",
       "</g>\n",
       "<!-- _94329236834416_y1 -->\n",
       "<g id=\"node3\" class=\"node\">\n",
       "<title>_94329236834416_y1</title>\n",
       "<ellipse fill=\"none\" stroke=\"green\" cx=\"1982.98\" cy=\"-724\" rx=\"167.07\" ry=\"18\"/>\n",
       "<text text-anchor=\"middle\" x=\"1982.98\" y=\"-720.3\" font-family=\"Times,serif\" font-size=\"14.00\">j2s7s300_arm_position_measured</text>\n",
       "</g>\n",
       "<!-- _94329236834416_y2 -->\n",
       "<g id=\"node4\" class=\"node\">\n",
       "<title>_94329236834416_y2</title>\n",
       "<ellipse fill=\"none\" stroke=\"green\" cx=\"1982.98\" cy=\"-670\" rx=\"167.07\" ry=\"18\"/>\n",
       "<text text-anchor=\"middle\" x=\"1982.98\" y=\"-666.3\" font-family=\"Times,serif\" font-size=\"14.00\">j2s7s300_arm_velocity_estimated</text>\n",
       "</g>\n",
       "<!-- _94329236834416_y3 -->\n",
       "<g id=\"node5\" class=\"node\">\n",
       "<title>_94329236834416_y3</title>\n",
       "<ellipse fill=\"none\" stroke=\"green\" cx=\"1982.98\" cy=\"-940\" rx=\"154.07\" ry=\"18\"/>\n",
       "<text text-anchor=\"middle\" x=\"1982.98\" y=\"-936.3\" font-family=\"Times,serif\" font-size=\"14.00\">j2s7s300_arm_state_estimated</text>\n",
       "</g>\n",
       "<!-- _94329236834416_y4 -->\n",
       "<g id=\"node6\" class=\"node\">\n",
       "<title>_94329236834416_y4</title>\n",
       "<ellipse fill=\"none\" stroke=\"green\" cx=\"1982.98\" cy=\"-886\" rx=\"153.27\" ry=\"18\"/>\n",
       "<text text-anchor=\"middle\" x=\"1982.98\" y=\"-882.3\" font-family=\"Times,serif\" font-size=\"14.00\">j2s7s300_arm_torque_external</text>\n",
       "</g>\n",
       "<!-- _94329236834416_y5 -->\n",
       "<g id=\"node7\" class=\"node\">\n",
       "<title>_94329236834416_y5</title>\n",
       "<ellipse fill=\"none\" stroke=\"green\" cx=\"1982.98\" cy=\"-778\" rx=\"70.39\" ry=\"18\"/>\n",
       "<text text-anchor=\"middle\" x=\"1982.98\" y=\"-774.3\" font-family=\"Times,serif\" font-size=\"14.00\">query_object</text>\n",
       "</g>\n",
       "<!-- 94329239792656 -->\n",
       "<g id=\"node19\" class=\"node\">\n",
       "<title>94329239792656</title>\n",
       "<polygon fill=\"none\" stroke=\"black\" points=\"2208.98,-767 2208.98,-813 2440.98,-813 2440.98,-767 2208.98,-767\"/>\n",
       "<text text-anchor=\"middle\" x=\"2324.98\" y=\"-797.8\" font-family=\"Times,serif\" font-size=\"14.00\">meshcat_visualizer(visualizer)</text>\n",
       "<polyline fill=\"none\" stroke=\"black\" points=\"2208.98,-790 2440.98,-790 \"/>\n",
       "<text text-anchor=\"middle\" x=\"2288.48\" y=\"-774.8\" font-family=\"Times,serif\" font-size=\"14.00\">query_object</text>\n",
       "<polyline fill=\"none\" stroke=\"black\" points=\"2367.98,-767 2367.98,-790 \"/>\n",
       "<text text-anchor=\"middle\" x=\"2404.48\" y=\"-774.8\" font-family=\"Times,serif\" font-size=\"14.00\"> </text>\n",
       "</g>\n",
       "<!-- _94329236834416_y5&#45;&gt;94329239792656 -->\n",
       "<g id=\"edge20\" class=\"edge\">\n",
       "<title>_94329236834416_y5-&gt;94329239792656:u0</title>\n",
       "<path fill=\"none\" stroke=\"black\" d=\"M2053.41,-778C2095.02,-778 2149.29,-778 2198.82,-778\"/>\n",
       "<polygon fill=\"black\" stroke=\"black\" points=\"2198.98,-781.5 2208.98,-778 2198.98,-774.5 2198.98,-781.5\"/>\n",
       "</g>\n",
       "<!-- _94329236834416_y6 -->\n",
       "<g id=\"node8\" class=\"node\">\n",
       "<title>_94329236834416_y6</title>\n",
       "<ellipse fill=\"none\" stroke=\"green\" cx=\"1982.98\" cy=\"-832\" rx=\"81.49\" ry=\"18\"/>\n",
       "<text text-anchor=\"middle\" x=\"1982.98\" y=\"-828.3\" font-family=\"Times,serif\" font-size=\"14.00\">contact_results</text>\n",
       "</g>\n",
       "<!-- _94329236834416_y7 -->\n",
       "<g id=\"node9\" class=\"node\">\n",
       "<title>_94329236834416_y7</title>\n",
       "<ellipse fill=\"none\" stroke=\"green\" cx=\"1982.98\" cy=\"-994\" rx=\"63.89\" ry=\"18\"/>\n",
       "<text text-anchor=\"middle\" x=\"1982.98\" y=\"-990.3\" font-family=\"Times,serif\" font-size=\"14.00\">body_poses</text>\n",
       "</g>\n",
       "<!-- 94329237883536 -->\n",
       "<g id=\"node10\" class=\"node\">\n",
       "<title>94329237883536</title>\n",
       "<polygon fill=\"none\" stroke=\"black\" points=\"715.98,-213 715.98,-627 1337.98,-627 1337.98,-213 715.98,-213\"/>\n",
       "<text text-anchor=\"middle\" x=\"1026.98\" y=\"-611.8\" font-family=\"Times,serif\" font-size=\"14.00\">plant</text>\n",
       "<polyline fill=\"none\" stroke=\"black\" points=\"715.98,-604 1337.98,-604 \"/>\n",
       "<text text-anchor=\"middle\" x=\"839.98\" y=\"-572.8\" font-family=\"Times,serif\" font-size=\"14.00\">geometry_query</text>\n",
       "<polyline fill=\"none\" stroke=\"black\" points=\"715.98,-549 963.98,-549 \"/>\n",
       "<text text-anchor=\"middle\" x=\"839.98\" y=\"-517.3\" font-family=\"Times,serif\" font-size=\"14.00\">WorldModelInstance_actuation</text>\n",
       "<polyline fill=\"none\" stroke=\"black\" points=\"715.98,-493 963.98,-493 \"/>\n",
       "<text text-anchor=\"middle\" x=\"839.98\" y=\"-461.3\" font-family=\"Times,serif\" font-size=\"14.00\">DefaultModelInstance_actuation</text>\n",
       "<polyline fill=\"none\" stroke=\"black\" points=\"715.98,-437 963.98,-437 \"/>\n",
       "<text text-anchor=\"middle\" x=\"839.98\" y=\"-405.3\" font-family=\"Times,serif\" font-size=\"14.00\">j2s7s300_arm_actuation</text>\n",
       "<polyline fill=\"none\" stroke=\"black\" points=\"715.98,-381 963.98,-381 \"/>\n",
       "<text text-anchor=\"middle\" x=\"839.98\" y=\"-349.3\" font-family=\"Times,serif\" font-size=\"14.00\">actuation</text>\n",
       "<polyline fill=\"none\" stroke=\"black\" points=\"715.98,-325 963.98,-325 \"/>\n",
       "<text text-anchor=\"middle\" x=\"839.98\" y=\"-293.3\" font-family=\"Times,serif\" font-size=\"14.00\">applied_generalized_force</text>\n",
       "<polyline fill=\"none\" stroke=\"black\" points=\"715.98,-269 963.98,-269 \"/>\n",
       "<text text-anchor=\"middle\" x=\"839.98\" y=\"-237.8\" font-family=\"Times,serif\" font-size=\"14.00\">applied_spatial_force</text>\n",
       "<polyline fill=\"none\" stroke=\"black\" points=\"963.98,-213 963.98,-604 \"/>\n",
       "<text text-anchor=\"middle\" x=\"1150.98\" y=\"-588.8\" font-family=\"Times,serif\" font-size=\"14.00\">geometry_pose</text>\n",
       "<polyline fill=\"none\" stroke=\"black\" points=\"963.98,-581 1337.98,-581 \"/>\n",
       "<text text-anchor=\"middle\" x=\"1150.98\" y=\"-565.8\" font-family=\"Times,serif\" font-size=\"14.00\">state</text>\n",
       "<polyline fill=\"none\" stroke=\"black\" points=\"963.98,-558 1337.98,-558 \"/>\n",
       "<text text-anchor=\"middle\" x=\"1150.98\" y=\"-542.8\" font-family=\"Times,serif\" font-size=\"14.00\">body_poses</text>\n",
       "<polyline fill=\"none\" stroke=\"black\" points=\"963.98,-535 1337.98,-535 \"/>\n",
       "<text text-anchor=\"middle\" x=\"1150.98\" y=\"-519.8\" font-family=\"Times,serif\" font-size=\"14.00\">spatial_velocities</text>\n",
       "<polyline fill=\"none\" stroke=\"black\" points=\"963.98,-512 1337.98,-512 \"/>\n",
       "<text text-anchor=\"middle\" x=\"1150.98\" y=\"-496.8\" font-family=\"Times,serif\" font-size=\"14.00\">spatial_accelerations</text>\n",
       "<polyline fill=\"none\" stroke=\"black\" points=\"963.98,-489 1337.98,-489 \"/>\n",
       "<text text-anchor=\"middle\" x=\"1150.98\" y=\"-473.8\" font-family=\"Times,serif\" font-size=\"14.00\">generalized_acceleration</text>\n",
       "<polyline fill=\"none\" stroke=\"black\" points=\"963.98,-466 1337.98,-466 \"/>\n",
       "<text text-anchor=\"middle\" x=\"1150.98\" y=\"-450.8\" font-family=\"Times,serif\" font-size=\"14.00\">WorldModelInstance_state</text>\n",
       "<polyline fill=\"none\" stroke=\"black\" points=\"963.98,-443 1337.98,-443 \"/>\n",
       "<text text-anchor=\"middle\" x=\"1150.98\" y=\"-427.8\" font-family=\"Times,serif\" font-size=\"14.00\">WorldModelInstance_generalized_acceleration</text>\n",
       "<polyline fill=\"none\" stroke=\"black\" points=\"963.98,-420 1337.98,-420 \"/>\n",
       "<text text-anchor=\"middle\" x=\"1150.98\" y=\"-404.8\" font-family=\"Times,serif\" font-size=\"14.00\">DefaultModelInstance_state</text>\n",
       "<polyline fill=\"none\" stroke=\"black\" points=\"963.98,-397 1337.98,-397 \"/>\n",
       "<text text-anchor=\"middle\" x=\"1150.98\" y=\"-381.8\" font-family=\"Times,serif\" font-size=\"14.00\">DefaultModelInstance_generalized_acceleration</text>\n",
       "<polyline fill=\"none\" stroke=\"black\" points=\"963.98,-374 1337.98,-374 \"/>\n",
       "<text text-anchor=\"middle\" x=\"1150.98\" y=\"-358.8\" font-family=\"Times,serif\" font-size=\"14.00\">j2s7s300_arm_state</text>\n",
       "<polyline fill=\"none\" stroke=\"black\" points=\"963.98,-351 1337.98,-351 \"/>\n",
       "<text text-anchor=\"middle\" x=\"1150.98\" y=\"-335.8\" font-family=\"Times,serif\" font-size=\"14.00\">j2s7s300_arm_generalized_acceleration</text>\n",
       "<polyline fill=\"none\" stroke=\"black\" points=\"963.98,-328 1337.98,-328 \"/>\n",
       "<text text-anchor=\"middle\" x=\"1150.98\" y=\"-312.8\" font-family=\"Times,serif\" font-size=\"14.00\">WorldModelInstance_generalized_contact_forces</text>\n",
       "<polyline fill=\"none\" stroke=\"black\" points=\"963.98,-305 1337.98,-305 \"/>\n",
       "<text text-anchor=\"middle\" x=\"1150.98\" y=\"-289.8\" font-family=\"Times,serif\" font-size=\"14.00\">DefaultModelInstance_generalized_contact_forces</text>\n",
       "<polyline fill=\"none\" stroke=\"black\" points=\"963.98,-282 1337.98,-282 \"/>\n",
       "<text text-anchor=\"middle\" x=\"1150.98\" y=\"-266.8\" font-family=\"Times,serif\" font-size=\"14.00\">j2s7s300_arm_generalized_contact_forces</text>\n",
       "<polyline fill=\"none\" stroke=\"black\" points=\"963.98,-259 1337.98,-259 \"/>\n",
       "<text text-anchor=\"middle\" x=\"1150.98\" y=\"-243.8\" font-family=\"Times,serif\" font-size=\"14.00\">reaction_forces</text>\n",
       "<polyline fill=\"none\" stroke=\"black\" points=\"963.98,-236 1337.98,-236 \"/>\n",
       "<text text-anchor=\"middle\" x=\"1150.98\" y=\"-220.8\" font-family=\"Times,serif\" font-size=\"14.00\">contact_results</text>\n",
       "</g>\n",
       "<!-- 94329237883536&#45;&gt;_94329236834416_y3 -->\n",
       "<g id=\"edge15\" class=\"edge\">\n",
       "<title>94329237883536:y10-&gt;_94329236834416_y3</title>\n",
       "<path fill=\"none\" stroke=\"green\" d=\"M1337.98,-362C1385.7,-362 1343.8,-753.03 1373.98,-790 1485.18,-926.23 1698.57,-950.19 1840.63,-949.37\"/>\n",
       "<polygon fill=\"green\" stroke=\"green\" points=\"1840.77,-952.87 1850.73,-949.27 1840.7,-945.87 1840.77,-952.87\"/>\n",
       "</g>\n",
       "<!-- 94329237883536&#45;&gt;_94329236834416_y4 -->\n",
       "<g id=\"edge16\" class=\"edge\">\n",
       "<title>94329237883536:y14-&gt;_94329236834416_y4</title>\n",
       "<path fill=\"none\" stroke=\"green\" d=\"M1337.98,-270C1388.14,-270 1343.02,-680.53 1373.98,-720 1434.73,-797.45 1710.42,-848.03 1868.91,-871.25\"/>\n",
       "<polygon fill=\"green\" stroke=\"green\" points=\"1868.78,-874.77 1879.18,-872.74 1869.78,-867.84 1868.78,-874.77\"/>\n",
       "</g>\n",
       "<!-- 94329237883536&#45;&gt;_94329236834416_y6 -->\n",
       "<g id=\"edge18\" class=\"edge\">\n",
       "<title>94329237883536:y16-&gt;_94329236834416_y6</title>\n",
       "<path fill=\"none\" stroke=\"green\" d=\"M1337.98,-224C1384.04,-224 1346.54,-600 1373.98,-637 1493.51,-798.14 1599.17,-753.11 1792.98,-805 1826.49,-813.97 1864.2,-820.12 1897.06,-824.26\"/>\n",
       "<polygon fill=\"green\" stroke=\"green\" points=\"1896.75,-827.74 1907.1,-825.48 1897.59,-820.8 1896.75,-827.74\"/>\n",
       "</g>\n",
       "<!-- 94329237883536&#45;&gt;_94329236834416_y7 -->\n",
       "<g id=\"edge19\" class=\"edge\">\n",
       "<title>94329237883536:y2-&gt;_94329236834416_y7</title>\n",
       "<path fill=\"none\" stroke=\"green\" d=\"M1337.98,-547C1410.64,-547 1325.57,-817.81 1373.98,-872 1444.41,-950.85 1764.66,-980.52 1909.94,-990.06\"/>\n",
       "<polygon fill=\"green\" stroke=\"green\" points=\"1909.88,-993.57 1920.09,-990.72 1910.33,-986.58 1909.88,-993.57\"/>\n",
       "</g>\n",
       "<!-- 94329237933168 -->\n",
       "<g id=\"node11\" class=\"node\">\n",
       "<title>94329237933168</title>\n",
       "<polygon fill=\"none\" stroke=\"black\" points=\"1458.98,-558.5 1458.98,-627.5 1671.98,-627.5 1671.98,-558.5 1458.98,-558.5\"/>\n",
       "<text text-anchor=\"middle\" x=\"1565.48\" y=\"-612.3\" font-family=\"Times,serif\" font-size=\"14.00\">scene_graph</text>\n",
       "<polyline fill=\"none\" stroke=\"black\" points=\"1458.98,-604.5 1671.98,-604.5 \"/>\n",
       "<text text-anchor=\"middle\" x=\"1536.48\" y=\"-589.3\" font-family=\"Times,serif\" font-size=\"14.00\">plant_pose</text>\n",
       "<polyline fill=\"none\" stroke=\"black\" points=\"1458.98,-581.5 1613.98,-581.5 \"/>\n",
       "<text text-anchor=\"middle\" x=\"1536.48\" y=\"-566.3\" font-family=\"Times,serif\" font-size=\"14.00\">plant_configuration</text>\n",
       "<polyline fill=\"none\" stroke=\"black\" points=\"1613.98,-558.5 1613.98,-604.5 \"/>\n",
       "<text text-anchor=\"middle\" x=\"1642.98\" y=\"-577.8\" font-family=\"Times,serif\" font-size=\"14.00\">query</text>\n",
       "</g>\n",
       "<!-- 94329237883536&#45;&gt;94329237933168 -->\n",
       "<g id=\"edge10\" class=\"edge\">\n",
       "<title>94329237883536:y0-&gt;94329237933168:u0</title>\n",
       "<path fill=\"none\" stroke=\"black\" d=\"M1337.98,-593C1387.56,-593 1402.43,-593 1447.4,-593\"/>\n",
       "<polygon fill=\"black\" stroke=\"black\" points=\"1447.48,-596.5 1457.48,-593 1447.48,-589.5 1447.48,-596.5\"/>\n",
       "</g>\n",
       "<!-- 94329237912640 -->\n",
       "<g id=\"node13\" class=\"node\">\n",
       "<title>94329237912640</title>\n",
       "<polygon fill=\"none\" stroke=\"black\" points=\"1375.48,-128.5 1375.48,-473.5 1755.48,-473.5 1755.48,-128.5 1375.48,-128.5\"/>\n",
       "<text text-anchor=\"middle\" x=\"1565.48\" y=\"-458.3\" font-family=\"Times,serif\" font-size=\"14.00\">drake/systems/Demultiplexer@000055cabcb7bc40</text>\n",
       "<polyline fill=\"none\" stroke=\"black\" points=\"1375.48,-450.5 1755.48,-450.5 \"/>\n",
       "<text text-anchor=\"middle\" x=\"1468.48\" y=\"-285.8\" font-family=\"Times,serif\" font-size=\"14.00\">u0</text>\n",
       "<polyline fill=\"none\" stroke=\"black\" points=\"1561.48,-128.5 1561.48,-450.5 \"/>\n",
       "<text text-anchor=\"middle\" x=\"1658.48\" y=\"-435.3\" font-family=\"Times,serif\" font-size=\"14.00\">y0</text>\n",
       "<polyline fill=\"none\" stroke=\"black\" points=\"1561.48,-427.5 1755.48,-427.5 \"/>\n",
       "<text text-anchor=\"middle\" x=\"1658.48\" y=\"-412.3\" font-family=\"Times,serif\" font-size=\"14.00\">y1</text>\n",
       "<polyline fill=\"none\" stroke=\"black\" points=\"1561.48,-404.5 1755.48,-404.5 \"/>\n",
       "<text text-anchor=\"middle\" x=\"1658.48\" y=\"-389.3\" font-family=\"Times,serif\" font-size=\"14.00\">y2</text>\n",
       "<polyline fill=\"none\" stroke=\"black\" points=\"1561.48,-381.5 1755.48,-381.5 \"/>\n",
       "<text text-anchor=\"middle\" x=\"1658.48\" y=\"-366.3\" font-family=\"Times,serif\" font-size=\"14.00\">y3</text>\n",
       "<polyline fill=\"none\" stroke=\"black\" points=\"1561.48,-358.5 1755.48,-358.5 \"/>\n",
       "<text text-anchor=\"middle\" x=\"1658.48\" y=\"-343.3\" font-family=\"Times,serif\" font-size=\"14.00\">y4</text>\n",
       "<polyline fill=\"none\" stroke=\"black\" points=\"1561.48,-335.5 1755.48,-335.5 \"/>\n",
       "<text text-anchor=\"middle\" x=\"1658.48\" y=\"-320.3\" font-family=\"Times,serif\" font-size=\"14.00\">y5</text>\n",
       "<polyline fill=\"none\" stroke=\"black\" points=\"1561.48,-312.5 1755.48,-312.5 \"/>\n",
       "<text text-anchor=\"middle\" x=\"1658.48\" y=\"-297.3\" font-family=\"Times,serif\" font-size=\"14.00\">y6</text>\n",
       "<polyline fill=\"none\" stroke=\"black\" points=\"1561.48,-289.5 1755.48,-289.5 \"/>\n",
       "<text text-anchor=\"middle\" x=\"1658.48\" y=\"-274.3\" font-family=\"Times,serif\" font-size=\"14.00\">y7</text>\n",
       "<polyline fill=\"none\" stroke=\"black\" points=\"1561.48,-266.5 1755.48,-266.5 \"/>\n",
       "<text text-anchor=\"middle\" x=\"1658.48\" y=\"-251.3\" font-family=\"Times,serif\" font-size=\"14.00\">y8</text>\n",
       "<polyline fill=\"none\" stroke=\"black\" points=\"1561.48,-243.5 1755.48,-243.5 \"/>\n",
       "<text text-anchor=\"middle\" x=\"1658.48\" y=\"-228.3\" font-family=\"Times,serif\" font-size=\"14.00\">y9</text>\n",
       "<polyline fill=\"none\" stroke=\"black\" points=\"1561.48,-220.5 1755.48,-220.5 \"/>\n",
       "<text text-anchor=\"middle\" x=\"1658.48\" y=\"-205.3\" font-family=\"Times,serif\" font-size=\"14.00\">y10</text>\n",
       "<polyline fill=\"none\" stroke=\"black\" points=\"1561.48,-197.5 1755.48,-197.5 \"/>\n",
       "<text text-anchor=\"middle\" x=\"1658.48\" y=\"-182.3\" font-family=\"Times,serif\" font-size=\"14.00\">y11</text>\n",
       "<polyline fill=\"none\" stroke=\"black\" points=\"1561.48,-174.5 1755.48,-174.5 \"/>\n",
       "<text text-anchor=\"middle\" x=\"1658.48\" y=\"-159.3\" font-family=\"Times,serif\" font-size=\"14.00\">y12</text>\n",
       "<polyline fill=\"none\" stroke=\"black\" points=\"1561.48,-151.5 1755.48,-151.5 \"/>\n",
       "<text text-anchor=\"middle\" x=\"1658.48\" y=\"-136.3\" font-family=\"Times,serif\" font-size=\"14.00\">y13</text>\n",
       "</g>\n",
       "<!-- 94329237883536&#45;&gt;94329237912640 -->\n",
       "<g id=\"edge9\" class=\"edge\">\n",
       "<title>94329237883536:y10-&gt;94329237912640:u0</title>\n",
       "<path fill=\"none\" stroke=\"black\" d=\"M1337.98,-362C1370.14,-362 1345.44,-304.6 1364.73,-291.6\"/>\n",
       "<polygon fill=\"black\" stroke=\"black\" points=\"1365.72,-294.96 1374.48,-289 1363.92,-288.19 1365.72,-294.96\"/>\n",
       "</g>\n",
       "<!-- 94329214112400 -->\n",
       "<g id=\"node16\" class=\"node\">\n",
       "<title>94329214112400</title>\n",
       "<polygon fill=\"none\" stroke=\"black\" points=\"1373.98,-493 1373.98,-539 1756.98,-539 1756.98,-493 1373.98,-493\"/>\n",
       "<text text-anchor=\"middle\" x=\"1565.48\" y=\"-523.8\" font-family=\"Times,serif\" font-size=\"14.00\">drake/systems/VectorLogSink@000055cabb4c9290</text>\n",
       "<polyline fill=\"none\" stroke=\"black\" points=\"1373.98,-516 1756.98,-516 \"/>\n",
       "<text text-anchor=\"middle\" x=\"1476.48\" y=\"-500.8\" font-family=\"Times,serif\" font-size=\"14.00\">data</text>\n",
       "<polyline fill=\"none\" stroke=\"black\" points=\"1578.98,-493 1578.98,-516 \"/>\n",
       "<text text-anchor=\"middle\" x=\"1667.98\" y=\"-500.8\" font-family=\"Times,serif\" font-size=\"14.00\"> </text>\n",
       "</g>\n",
       "<!-- 94329237883536&#45;&gt;94329214112400 -->\n",
       "<g id=\"edge1\" class=\"edge\">\n",
       "<title>94329237883536:y10-&gt;94329214112400:u0</title>\n",
       "<path fill=\"none\" stroke=\"black\" d=\"M1337.98,-362C1399.14,-362 1319.7,-487.33 1363.83,-502.5\"/>\n",
       "<polygon fill=\"black\" stroke=\"black\" points=\"1363.58,-506 1373.98,-504 1364.6,-499.08 1363.58,-506\"/>\n",
       "</g>\n",
       "<!-- 94329236123200 -->\n",
       "<g id=\"node17\" class=\"node\">\n",
       "<title>94329236123200</title>\n",
       "<polygon fill=\"none\" stroke=\"black\" points=\"1468.98,-40.5 1468.98,-109.5 1661.98,-109.5 1661.98,-40.5 1468.98,-40.5\"/>\n",
       "<text text-anchor=\"middle\" x=\"1565.48\" y=\"-94.3\" font-family=\"Times,serif\" font-size=\"14.00\">j2s7s300_arm_controller</text>\n",
       "<polyline fill=\"none\" stroke=\"black\" points=\"1468.98,-86.5 1661.98,-86.5 \"/>\n",
       "<text text-anchor=\"middle\" x=\"1536.48\" y=\"-71.3\" font-family=\"Times,serif\" font-size=\"14.00\">estimated_state</text>\n",
       "<polyline fill=\"none\" stroke=\"black\" points=\"1468.98,-63.5 1603.98,-63.5 \"/>\n",
       "<text text-anchor=\"middle\" x=\"1536.48\" y=\"-48.3\" font-family=\"Times,serif\" font-size=\"14.00\">desired_state</text>\n",
       "<polyline fill=\"none\" stroke=\"black\" points=\"1603.98,-40.5 1603.98,-86.5 \"/>\n",
       "<text text-anchor=\"middle\" x=\"1632.98\" y=\"-59.8\" font-family=\"Times,serif\" font-size=\"14.00\">force</text>\n",
       "</g>\n",
       "<!-- 94329237883536&#45;&gt;94329236123200 -->\n",
       "<g id=\"edge3\" class=\"edge\">\n",
       "<title>94329237883536:y10-&gt;94329236123200:u0</title>\n",
       "<path fill=\"none\" stroke=\"black\" d=\"M1337.98,-362C1392.57,-362 1341.42,-162.82 1373.98,-119 1399.23,-85.02 1418.35,-76.3 1457.17,-75.14\"/>\n",
       "<polygon fill=\"black\" stroke=\"black\" points=\"1457.53,-78.64 1467.48,-75 1457.43,-71.64 1457.53,-78.64\"/>\n",
       "</g>\n",
       "<!-- 94329237933168&#45;&gt;_94329236834416_y5 -->\n",
       "<g id=\"edge17\" class=\"edge\">\n",
       "<title>94329237933168:y0-&gt;_94329236834416_y5</title>\n",
       "<path fill=\"none\" stroke=\"green\" d=\"M1673.48,-581C1765.83,-581 1714.24,-702.73 1792.98,-751 1825.78,-771.11 1867.7,-778.54 1903.72,-780.64\"/>\n",
       "<polygon fill=\"green\" stroke=\"green\" points=\"1903.56,-784.14 1913.71,-781.1 1903.88,-777.15 1903.56,-784.14\"/>\n",
       "</g>\n",
       "<!-- 94329237933168&#45;&gt;94329237883536 -->\n",
       "<g id=\"edge7\" class=\"edge\">\n",
       "<title>94329237933168:y0-&gt;94329237883536:u0</title>\n",
       "<path fill=\"none\" stroke=\"black\" d=\"M1643.48,-557C1643.48,-546.75 1468.88,-555.33 1458.98,-558 1399.1,-574.15 1397.9,-611.52 1337.98,-627.5 1070.87,-698.75 913.38,-821.03 715.98,-627.5 702.95,-614.73 695.62,-589.37 705.36,-580.31\"/>\n",
       "<polygon fill=\"black\" stroke=\"black\" points=\"706.66,-583.57 714.98,-577 704.38,-576.95 706.66,-583.57\"/>\n",
       "</g>\n",
       "<!-- 94329236703840&#45;&gt;_94329236834416_y0 -->\n",
       "<g id=\"edge12\" class=\"edge\">\n",
       "<title>94329236703840:y0-&gt;_94329236834416_y0</title>\n",
       "<path fill=\"none\" stroke=\"green\" d=\"M679.98,-108C738.89,-108 682.17,-588.75 715.98,-637 960.88,-986.52 1511.32,-1045.64 1798.99,-1051.46\"/>\n",
       "<polygon fill=\"green\" stroke=\"green\" points=\"1799.05,-1054.96 1809.12,-1051.64 1799.18,-1047.96 1799.05,-1054.96\"/>\n",
       "</g>\n",
       "<!-- 94329236140032 -->\n",
       "<g id=\"node18\" class=\"node\">\n",
       "<title>94329236140032</title>\n",
       "<polygon fill=\"none\" stroke=\"black\" points=\"865.48,-69 865.48,-115 1188.48,-115 1188.48,-69 865.48,-69\"/>\n",
       "<text text-anchor=\"middle\" x=\"1026.98\" y=\"-99.8\" font-family=\"Times,serif\" font-size=\"14.00\">j2s7s300_arm_desired_state_from_position</text>\n",
       "<polyline fill=\"none\" stroke=\"black\" points=\"865.48,-92 1188.48,-92 \"/>\n",
       "<text text-anchor=\"middle\" x=\"951.48\" y=\"-76.8\" font-family=\"Times,serif\" font-size=\"14.00\">position</text>\n",
       "<polyline fill=\"none\" stroke=\"black\" points=\"1037.48,-69 1037.48,-92 \"/>\n",
       "<text text-anchor=\"middle\" x=\"1112.98\" y=\"-76.8\" font-family=\"Times,serif\" font-size=\"14.00\">state</text>\n",
       "</g>\n",
       "<!-- 94329236703840&#45;&gt;94329236140032 -->\n",
       "<g id=\"edge5\" class=\"edge\">\n",
       "<title>94329236703840:y0-&gt;94329236140032:u0</title>\n",
       "<path fill=\"none\" stroke=\"black\" d=\"M679.98,-108C759.14,-108 779.55,-82.35 853.66,-80.15\"/>\n",
       "<polygon fill=\"black\" stroke=\"black\" points=\"854.03,-83.65 863.98,-80 853.93,-76.65 854.03,-83.65\"/>\n",
       "</g>\n",
       "<!-- 94329237912640&#45;&gt;_94329236834416_y1 -->\n",
       "<g id=\"edge13\" class=\"edge\">\n",
       "<title>94329237912640:y0-&gt;_94329236834416_y1</title>\n",
       "<path fill=\"none\" stroke=\"green\" d=\"M1756.48,-439C1814.38,-439 1752.06,-656.03 1792.98,-697 1799.6,-703.63 1807.07,-709.13 1815.11,-713.66\"/>\n",
       "<polygon fill=\"green\" stroke=\"green\" points=\"1813.54,-716.79 1824.04,-718.2 1816.72,-710.55 1813.54,-716.79\"/>\n",
       "</g>\n",
       "<!-- 94329237912640&#45;&gt;_94329236834416_y2 -->\n",
       "<g id=\"edge14\" class=\"edge\">\n",
       "<title>94329237912640:y1-&gt;_94329236834416_y2</title>\n",
       "<path fill=\"none\" stroke=\"green\" d=\"M1756.48,-416C1806.91,-416 1757.24,-604.41 1792.98,-640 1800.65,-647.64 1809.43,-653.82 1818.91,-658.79\"/>\n",
       "<polygon fill=\"green\" stroke=\"green\" points=\"1817.67,-662.07 1828.21,-663.19 1820.67,-655.75 1817.67,-662.07\"/>\n",
       "</g>\n",
       "<!-- 94329236839568 -->\n",
       "<g id=\"node14\" class=\"node\">\n",
       "<title>94329236839568</title>\n",
       "<polygon fill=\"none\" stroke=\"black\" points=\"1792.98,-449 1792.98,-495 2172.98,-495 2172.98,-449 1792.98,-449\"/>\n",
       "<text text-anchor=\"middle\" x=\"1982.98\" y=\"-479.8\" font-family=\"Times,serif\" font-size=\"14.00\">drake/systems/VectorLogSink@000055cabca75c90</text>\n",
       "<polyline fill=\"none\" stroke=\"black\" points=\"1792.98,-472 2172.98,-472 \"/>\n",
       "<text text-anchor=\"middle\" x=\"1894.48\" y=\"-456.8\" font-family=\"Times,serif\" font-size=\"14.00\">data</text>\n",
       "<polyline fill=\"none\" stroke=\"black\" points=\"1995.98,-449 1995.98,-472 \"/>\n",
       "<text text-anchor=\"middle\" x=\"2084.48\" y=\"-456.8\" font-family=\"Times,serif\" font-size=\"14.00\"> </text>\n",
       "</g>\n",
       "<!-- 94329237912640&#45;&gt;94329236839568 -->\n",
       "<g id=\"edge6\" class=\"edge\">\n",
       "<title>94329237912640:y0-&gt;94329236839568:u0</title>\n",
       "<path fill=\"none\" stroke=\"black\" d=\"M1756.48,-439C1771.1,-439 1773.73,-451.82 1783.11,-457.42\"/>\n",
       "<polygon fill=\"black\" stroke=\"black\" points=\"1782.42,-460.86 1792.98,-460 1784.19,-454.09 1782.42,-460.86\"/>\n",
       "</g>\n",
       "<!-- 94329234009648 -->\n",
       "<g id=\"node15\" class=\"node\">\n",
       "<title>94329234009648</title>\n",
       "<polygon fill=\"none\" stroke=\"black\" points=\"1792.98,-384 1792.98,-430 2172.98,-430 2172.98,-384 1792.98,-384\"/>\n",
       "<text text-anchor=\"middle\" x=\"1982.98\" y=\"-414.8\" font-family=\"Times,serif\" font-size=\"14.00\">drake/systems/VectorLogSink@000055cabc7c2e30</text>\n",
       "<polyline fill=\"none\" stroke=\"black\" points=\"1792.98,-407 2172.98,-407 \"/>\n",
       "<text text-anchor=\"middle\" x=\"1894.48\" y=\"-391.8\" font-family=\"Times,serif\" font-size=\"14.00\">data</text>\n",
       "<polyline fill=\"none\" stroke=\"black\" points=\"1995.98,-384 1995.98,-407 \"/>\n",
       "<text text-anchor=\"middle\" x=\"2084.48\" y=\"-391.8\" font-family=\"Times,serif\" font-size=\"14.00\"> </text>\n",
       "</g>\n",
       "<!-- 94329237912640&#45;&gt;94329234009648 -->\n",
       "<g id=\"edge2\" class=\"edge\">\n",
       "<title>94329237912640:y1-&gt;94329234009648:u0</title>\n",
       "<path fill=\"none\" stroke=\"black\" d=\"M1756.48,-416C1771.1,-416 1773.73,-403.18 1783.11,-397.58\"/>\n",
       "<polygon fill=\"black\" stroke=\"black\" points=\"1784.19,-400.91 1792.98,-395 1782.42,-394.14 1784.19,-400.91\"/>\n",
       "</g>\n",
       "<!-- 94329236123200&#45;&gt;94329237883536 -->\n",
       "<g id=\"edge8\" class=\"edge\">\n",
       "<title>94329236123200:y0-&gt;94329237883536:u3</title>\n",
       "<path fill=\"none\" stroke=\"black\" d=\"M1633.48,-39C1633.48,34.11 1539.13,-19.41 1468.98,-40 1402.84,-59.41 1402.63,-99.12 1337.98,-123 1206.98,-171.39 807.69,-107.19 715.98,-212.5 703.43,-226.91 695.36,-366.55 708.17,-401.23\"/>\n",
       "<polygon fill=\"black\" stroke=\"black\" points=\"705.75,-403.79 714.98,-409 711.02,-399.17 705.75,-403.79\"/>\n",
       "</g>\n",
       "<!-- 94329236140032&#45;&gt;94329236123200 -->\n",
       "<g id=\"edge4\" class=\"edge\">\n",
       "<title>94329236140032:y0-&gt;94329236123200:u1</title>\n",
       "<path fill=\"none\" stroke=\"black\" d=\"M1189.98,-80C1310.43,-80 1341.77,-53.56 1457.17,-52.07\"/>\n",
       "<polygon fill=\"black\" stroke=\"black\" points=\"1457.5,-55.56 1467.48,-52 1457.46,-48.56 1457.5,-55.56\"/>\n",
       "</g>\n",
       "</g>\n",
       "</svg>"
      ],
      "text/plain": [
       "<IPython.core.display.SVG object>"
      ]
     },
     "metadata": {},
     "output_type": "display_data"
    },
    {
     "name": "stdout",
     "output_type": "stream",
     "text": [
      "nq: 7\n",
      "nqdot: 7\n",
      "[1.8  3.44 3.14 0.76 4.63 4.49 5.03]\n"
     ]
    }
   ],
   "source": [
    "painter = Jaco_Painter(visualize_diagram=True)"
   ]
  },
  {
   "cell_type": "code",
   "execution_count": 10,
   "id": "e043a2f9",
   "metadata": {
    "scrolled": true
   },
   "outputs": [
    {
     "name": "stdout",
     "output_type": "stream",
     "text": [
      "nq: 7\n",
      "nqdot: 7\n",
      "[1.8  3.44 3.14 0.76 4.63 4.49 5.03]\n"
     ]
    }
   ],
   "source": [
    "X_WG = painter.get_X_WG()\n",
    "painter.visualize_frame(\"gripper_current\", X_WG)"
   ]
  },
  {
   "cell_type": "code",
   "execution_count": 11,
   "id": "5b78e76d",
   "metadata": {},
   "outputs": [],
   "source": [
    "# define parameters for desired spiral trajectory\n",
    "radius_base = 0.2\n",
    "coef_spiral = 0.01\n",
    "num_rotation = 3\n",
    "\n",
    "# TODO:\n",
    "# check following setup in hardware (ie. collision etc.\n",
    "p0 = [0.45, 0.0, 0.6]\n",
    "R0 = RotationMatrix(np.array([[0, 1, 0], [0, 0, -1], [-1, 0, 0]]).T)\n",
    "X_WorldCenter = RigidTransform(R0, p0)\n",
    "\n",
    "num_key_frames = 30\n",
    "thetas = np.linspace(0, num_rotation * 2 * np.pi, num_key_frames)"
   ]
  },
  {
   "cell_type": "code",
   "execution_count": 12,
   "id": "ab238d98",
   "metadata": {},
   "outputs": [],
   "source": [
    "def compose_circular_key_frames(thetas, X_WorldCenter, X_WorldGripper_init, radius_base, coef_spiral):\n",
    "    \"\"\"\n",
    "    returns: a list of RigidTransforms\n",
    "    \"\"\"\n",
    "    key_frame_poses_in_world = []\n",
    "    p_WorldCenter = X_WorldCenter.translation()\n",
    "    # prepare initial frame for interpolation\n",
    "    # p_0 = [p_WorldCenter[],,]\n",
    "    pose_0 = RigidTransform(RotationMatrix().MakeYRotation(np.pi), p_WorldCenter)\n",
    "    key_frame_poses_in_world.append(pose_0)\n",
    "    for theta in thetas:\n",
    "        # calculate each coordinates\n",
    "        p_i = [(radius_base + coef_spiral * theta) * math.cos(theta), \n",
    "               (radius_base + coef_spiral * theta) * math.sin(theta),\n",
    "               p_WorldCenter[2]\n",
    "              ]\n",
    "        this_pose = RigidTransform(RotationMatrix().MakeZRotation(theta).MakeYRotation(np.pi), p_i)\n",
    "        key_frame_poses_in_world.append(this_pose)\n",
    "        \n",
    "    return key_frame_poses_in_world"
   ]
  },
  {
   "cell_type": "code",
   "execution_count": 13,
   "id": "8512483b",
   "metadata": {},
   "outputs": [
    {
     "name": "stdout",
     "output_type": "stream",
     "text": [
      "nq: 7\n",
      "nqdot: 7\n",
      "[1.8  3.44 3.14 0.76 4.63 4.49 5.03]\n"
     ]
    }
   ],
   "source": [
    "def visualize_key_frames(frame_poses):\n",
    "    for i, pose in enumerate(frame_poses):\n",
    "        painter.visualize_frame(\"frame_{}\".format(i), pose, length=0.05)\n",
    "        \n",
    "key_frame_poses = compose_circular_key_frames(\n",
    "    thetas, X_WorldCenter, painter.get_X_WG(), radius_base, coef_spiral\n",
    ")\n",
    "visualize_key_frames(key_frame_poses)"
   ]
  },
  {
   "cell_type": "code",
   "execution_count": 14,
   "id": "045eae84",
   "metadata": {},
   "outputs": [
    {
     "name": "stdout",
     "output_type": "stream",
     "text": [
      "nq: 7\n",
      "nqdot: 7\n",
      "[1.8  3.44 3.14 0.76 4.63 4.49 5.03]\n"
     ]
    }
   ],
   "source": [
    "X_WorldGripper_init = painter.get_X_WG()\n",
    "total_time = 20\n",
    "key_frame_poses = compose_circular_key_frames(\n",
    "    thetas, X_WorldCenter, X_WorldGripper_init, radius_base, coef_spiral\n",
    ")\n",
    "times = np.linspace(0, total_time, num_key_frames + 1)\n",
    "traj = PiecewisePose.MakeLinear(times, key_frame_poses)"
   ]
  },
  {
   "cell_type": "code",
   "execution_count": 15,
   "id": "66c86724",
   "metadata": {
    "scrolled": true
   },
   "outputs": [
    {
     "name": "stdout",
     "output_type": "stream",
     "text": [
      "loaded model of WorldModelInstance\n",
      "loaded model of DefaultModelInstance\n",
      "loaded model of j2s7s300_arm\n",
      "num_jaco_positions: 7\n",
      "nq: 7\n",
      "nqdot: 7\n",
      "[1.8  3.44 3.14 0.76 4.63 4.49 5.03]\n"
     ]
    }
   ],
   "source": [
    "painter = Jaco_Painter(traj)"
   ]
  },
  {
   "cell_type": "code",
   "execution_count": 16,
   "id": "a83accf4",
   "metadata": {
    "scrolled": false
   },
   "outputs": [
    {
     "name": "stdout",
     "output_type": "stream",
     "text": [
      "nq: 7\n",
      "nqdot: 7\n",
      "[1.8  3.44 3.14 0.76 4.63 4.49 5.03]\n"
     ]
    }
   ],
   "source": [
    "position_log, velocity_log, all_state_log = painter.paint(sim_duration=total_time)"
   ]
  },
  {
   "cell_type": "code",
   "execution_count": 17,
   "id": "49efb736",
   "metadata": {},
   "outputs": [
    {
     "data": {
      "text/plain": [
       "Text(0, 0.5, 'joint_position')"
      ]
     },
     "execution_count": 17,
     "metadata": {},
     "output_type": "execute_result"
    },
    {
     "data": {
      "image/png": "[encoded data removed]",
      "text/plain": [
       "<Figure size 432x288 with 1 Axes>"
      ]
     },
     "metadata": {
      "needs_background": "light"
     },
     "output_type": "display_data"
    }
   ],
   "source": [
    "plt.figure()\n",
    "plt.plot(position_log.sample_times(), position_log.data().transpose())\n",
    "plt.xlabel('t')\n",
    "plt.ylabel('joint_position')"
   ]
  },
  {
   "cell_type": "code",
   "execution_count": 17,
   "id": "09eefa7c",
   "metadata": {},
   "outputs": [
    {
     "data": {
      "text/plain": [
       "Text(0, 0.5, 'all_state')"
      ]
     },
     "execution_count": 17,
     "metadata": {},
     "output_type": "execute_result"
    },
    {
     "data": {
      "image/png": "[encoded data removed]",
      "text/plain": [
       "<Figure size 432x288 with 1 Axes>"
      ]
     },
     "metadata": {
      "needs_background": "light"
     },
     "output_type": "display_data"
    }
   ],
   "source": [
    "plt.figure()\n",
    "plt.plot(all_state_log.sample_times(), all_state_log.data().transpose())\n",
    "plt.xlabel('t')\n",
    "plt.ylabel('all_state')"
   ]
  },
  {
   "cell_type": "code",
   "execution_count": 18,
   "id": "b1683223",
   "metadata": {},
   "outputs": [
    {
     "data": {
      "text/plain": [
       "(14, 11203)"
      ]
     },
     "execution_count": 18,
     "metadata": {},
     "output_type": "execute_result"
    }
   ],
   "source": [
    "all_state_log.data().shape"
   ]
  },
  {
   "cell_type": "code",
   "execution_count": 19,
   "id": "f242321a",
   "metadata": {},
   "outputs": [
    {
     "data": {
      "text/plain": [
       "Text(0, 0.5, 'joint_position')"
      ]
     },
     "execution_count": 19,
     "metadata": {},
     "output_type": "execute_result"
    },
    {
     "data": {
      "image/png": "[encoded data removed]",
      "text/plain": [
       "<Figure size 432x288 with 1 Axes>"
      ]
     },
     "metadata": {
      "needs_background": "light"
     },
     "output_type": "display_data"
    }
   ],
   "source": [
    "plt.figure()\n",
    "plt.plot(all_state_log.sample_times(), all_state_log.data()[:7,:].transpose())\n",
    "plt.xlabel('t')\n",
    "plt.ylabel('joint_position')"
   ]
  },
  {
   "cell_type": "code",
   "execution_count": 20,
   "id": "20d7f995",
   "metadata": {},
   "outputs": [
    {
     "data": {
      "text/plain": [
       "Text(0, 0.5, 'joint_velocity')"
      ]
     },
     "execution_count": 20,
     "metadata": {},
     "output_type": "execute_result"
    },
    {
     "data": {
      "image/png": "[encoded data removed]",
      "text/plain": [
       "<Figure size 432x288 with 1 Axes>"
      ]
     },
     "metadata": {
      "needs_background": "light"
     },
     "output_type": "display_data"
    }
   ],
   "source": [
    "plt.figure()\n",
    "plt.plot(all_state_log.sample_times(), all_state_log.data()[7:,:].transpose())\n",
    "plt.xlabel('t')\n",
    "plt.ylabel('joint_velocity')"
   ]
  },
  {
   "cell_type": "code",
   "execution_count": 21,
   "id": "5cda964f",
   "metadata": {},
   "outputs": [],
   "source": [
    "import yaml"
   ]
  },
  {
   "cell_type": "code",
   "execution_count": 22,
   "id": "89cd0dc0",
   "metadata": {},
   "outputs": [],
   "source": [
    "def dump_traj_data_to_yaml(file_name, log_data):\n",
    "    with open(file_name, 'w') as f:\n",
    "        yaml.dump(log_data.data()[:7,:].transpose().tolist(), f)"
   ]
  },
  {
   "cell_type": "code",
   "execution_count": 26,
   "id": "d2e556bb",
   "metadata": {},
   "outputs": [],
   "source": [
    "time = np.arange(0, 10, 0.001)\n",
    "amplitude = 3.14 + np.sin(time)"
   ]
  },
  {
   "cell_type": "code",
   "execution_count": 27,
   "id": "6e42acd2",
   "metadata": {},
   "outputs": [
    {
     "data": {
      "text/plain": [
       "Text(0, 0.5, 'joint1_position(simple periodic)')"
      ]
     },
     "execution_count": 27,
     "metadata": {},
     "output_type": "execute_result"
    },
    {
     "data": {
      "image/png": "[encoded data removed]",
      "text/plain": [
       "<Figure size 432x288 with 1 Axes>"
      ]
     },
     "metadata": {
      "needs_background": "light"
     },
     "output_type": "display_data"
    }
   ],
   "source": [
    "plt.figure()\n",
    "plt.plot(time, amplitude)\n",
    "plt.xlabel('t')\n",
    "plt.ylabel('joint1_position(simple periodic)')"
   ]
  },
  {
   "cell_type": "code",
   "execution_count": 27,
   "id": "bbc682e4",
   "metadata": {},
   "outputs": [
    {
     "name": "stdout",
     "output_type": "stream",
     "text": [
      "[0.     0.0001]\n"
     ]
    }
   ],
   "source": [
    "print(all_state_log.sample_times()[0:2])"
   ]
  },
  {
   "cell_type": "code",
   "execution_count": 28,
   "id": "cd9cb53f",
   "metadata": {},
   "outputs": [],
   "source": [
    "all_state = all_state_log.data()[:7,:].transpose()"
   ]
  },
  {
   "cell_type": "code",
   "execution_count": 29,
   "id": "4ae8226d",
   "metadata": {},
   "outputs": [
    {
     "data": {
      "text/plain": [
       "array([1.8 , 3.44, 3.14, 0.76, 4.63, 4.49, 5.03])"
      ]
     },
     "execution_count": 29,
     "metadata": {},
     "output_type": "execute_result"
    }
   ],
   "source": [
    "all_state[0]"
   ]
  },
  {
   "cell_type": "code",
   "execution_count": 32,
   "id": "73396f07",
   "metadata": {},
   "outputs": [
    {
     "data": {
      "text/plain": [
       "numpy.ndarray"
      ]
     },
     "execution_count": 32,
     "metadata": {},
     "output_type": "execute_result"
    }
   ],
   "source": [
    "type(all_state)"
   ]
  },
  {
   "cell_type": "code",
   "execution_count": 33,
   "id": "99b4f286",
   "metadata": {},
   "outputs": [
    {
     "data": {
      "text/plain": [
       "(11203, 7)"
      ]
     },
     "execution_count": 33,
     "metadata": {},
     "output_type": "execute_result"
    }
   ],
   "source": [
    "all_state.shape"
   ]
  },
  {
   "cell_type": "code",
   "execution_count": 31,
   "id": "2140c251",
   "metadata": {},
   "outputs": [
    {
     "name": "stdout",
     "output_type": "stream",
     "text": [
      "[1.8  3.44 3.14 0.76 4.63 4.49 5.03 0.   0.   0.   0.   0.   0.   0.  ]\n"
     ]
    }
   ],
   "source": [
    "multiarm_all_state = np.append(all_state[0], np.zeros(7))\n",
    "print(multiarm_all_state)"
   ]
  },
  {
   "cell_type": "code",
   "execution_count": 36,
   "id": "41617a9f",
   "metadata": {},
   "outputs": [
    {
     "name": "stdout",
     "output_type": "stream",
     "text": [
      "[1.8  3.44 3.14 0.76 4.63 4.49 5.03 0.   0.   0.   0.   0.   0.   0.  ]\n"
     ]
    }
   ],
   "source": [
    "multiarm_all_state = np.empty([all_state.shape[0], 14])\n",
    "index = 0\n",
    "for onearm_all_state in all_state:\n",
    "    multiarm_all_state[index] = np.append(onearm_all_state, np.zeros(7))\n",
    "    index += 1\n",
    "print(multiarm_all_state[0])"
   ]
  },
  {
   "cell_type": "code",
   "execution_count": 37,
   "id": "ad82cfa9",
   "metadata": {},
   "outputs": [],
   "source": [
    "with open('spiral_traj_multiarm.yaml', 'w') as f:\n",
    "    yaml.dump(multiarm_all_state.tolist(), f)"
   ]
  },
  {
   "cell_type": "code",
   "execution_count": null,
   "id": "94468d1b",
   "metadata": {},
   "outputs": [],
   "source": []
  }
 ],
 "metadata": {
  "kernelspec": {
   "display_name": "Python 3 (ipykernel)",
   "language": "python",
   "name": "python3"
  },
  "language_info": {
   "codemirror_mode": {
    "name": "ipython",
    "version": 3
   },
   "file_extension": ".py",
   "mimetype": "text/x-python",
   "name": "python",
   "nbconvert_exporter": "python",
   "pygments_lexer": "ipython3",
   "version": "3.10.6"
  }
 },
 "nbformat": 4,
 "nbformat_minor": 5
}

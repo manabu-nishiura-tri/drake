{
 "cells": [
  {
   "cell_type": "code",
   "execution_count": 14,
   "id": "d72ee171",
   "metadata": {},
   "outputs": [],
   "source": [
    "import numpy as np\n",
    "from IPython.display import HTML, display\n",
    "from pydrake.all import (\n",
    "    AbstractValue, \n",
    "    ConstantVectorSource,\n",
    "    DiagramBuilder,\n",
    "    LeafSystem,\n",
    "    MeshcatVisualizer,\n",
    "    MeshcatVisualizerParams,\n",
    "    PiecewisePose,\n",
    "    RigidTransform,\n",
    "    RotationMatrix,\n",
    "    Simulator,\n",
    "    StartMeshcat,\n",
    "    TrajectorySource,\n",
    "    AddMultibodyPlantSceneGraph,\n",
    "    Parser,\n",
    ")"
   ]
  },
  {
   "cell_type": "code",
   "execution_count": 2,
   "id": "127e45c6",
   "metadata": {},
   "outputs": [],
   "source": [
    "from manipulation import running_as_notebook\n",
    "from manipulation.meshcat_utils import AddMeshcatTriad"
   ]
  },
  {
   "cell_type": "code",
   "execution_count": 22,
   "id": "d98ff9b9",
   "metadata": {},
   "outputs": [
    {
     "name": "stderr",
     "output_type": "stream",
     "text": [
      "INFO:drake:Meshcat listening for connections at http://localhost:7001\n"
     ]
    }
   ],
   "source": [
    "meshcat = StartMeshcat()"
   ]
  },
  {
   "cell_type": "code",
   "execution_count": 4,
   "id": "ed52f91f",
   "metadata": {},
   "outputs": [],
   "source": [
    "class PoseTrajectorySource(LeafSystem):\n",
    "    def __init__(self, pose_trajectory):\n",
    "        LeafSystem.__init__(self)\n",
    "        self._pose_trajectory = pose_trajectory\n",
    "        self.DecalreAbstractOutputPort(\n",
    "            \"pose\", lambda: AbstractValue.Make(RigidTransform()), self.CalcPosee\n",
    "        )\n",
    "        \n",
    "    def CalcPose(self, context, output):\n",
    "        output.set_value(self._pose_trajectory.GetPose(context.get_time()))"
   ]
  },
  {
   "cell_type": "code",
   "execution_count": 20,
   "id": "5a4994c5",
   "metadata": {},
   "outputs": [],
   "source": [
    "def MakeJacoStation(\n",
    "    model_directives=None,\n",
    "    filename=None,\n",
    "    time_step=0.002,\n",
    "):\n",
    "    \"\"\"\n",
    "    Creates a kinova jaco station system, which is a sub-diagram containing:\n",
    "     - A MultibodyPlant with populated via the Parser from the\n",
    "       `model_directives` argument AND the `filename` argument.\n",
    "     - A SceneGraph\n",
    "     - For each model instance starting with ``\n",
    "     \n",
    "    Args:\n",
    "        model_directives: a string containing any model directives to be parsed\n",
    "        \n",
    "        filename: a string containing the name of an sdf, urdf, mujoco xml. or\n",
    "        model directives yaml file.\n",
    "        \n",
    "        time_step: the standard MultibodyPlant time step.\n",
    "\n",
    "    \"\"\"\n",
    "    builder = DiagramBuilder()\n",
    "    \n",
    "    # add kinova jaco arm\n",
    "    plant, scene_graph = AddMultibodyPlantSceneGraph(\n",
    "        builder, time_step=time_step\n",
    "    )\n",
    "    parser = Parser(plant)\n",
    "    if model_directives:\n",
    "        parser.AddModelsFromString(model_directives, \".dmd.yaml\")\n",
    "    if filename:\n",
    "        parser.AddModelsFromUrl(filename)\n",
    "    plant.Finalize()\n",
    "    \n",
    "    # Export \"cheat\" ports.\n",
    "    builder.ExportOutput(scene_graph.get_query_output_port(), \"query_object\")\n",
    "    \n",
    "    diagram = builder.Build()\n",
    "    diagram.set_name(\"JacoStation\")\n",
    "    return diagram"
   ]
  },
  {
   "cell_type": "code",
   "execution_count": 39,
   "id": "bee7fd88",
   "metadata": {},
   "outputs": [],
   "source": [
    "class Jaco_Painter:\n",
    "    def __init__(self, traj=None):\n",
    "        builder = DiagramBuilder()\n",
    "        # set up the systems of jaco station\n",
    "        self.station = MakeJacoStation(\n",
    "            filename=\"package://drake/manipulation/models/jaco_description/urdf/j2s7s300_sphere_collision.urdf\")\n",
    "        \n",
    "        builder.AddSystem(self.station)\n",
    "        self.plant = self.station.GetSubsystemByName(\"plant\")\n",
    "        \"\"\"\n",
    "        controller_plant = self.station.GetSubsystemByName(\n",
    "            \"jaco_controller\"\n",
    "        ).get_multibody_plant_for_control()\n",
    "        \"\"\"\n",
    "        \n",
    "        # add trajectory source\n",
    "        if traj is not None:\n",
    "            traj_source = builder.AddSystem(PoseTrajectorySource(traj))\n",
    "            # TODO:\n",
    "            # add controller\n",
    "        \n",
    "        params = MeshcatVisualizerParams()\n",
    "        params.delete_on_initialization_event = False\n",
    "        self.visualizer = MeshcatVisualizer.AddToBuilder(\n",
    "            builder,\n",
    "            self.station.GetOutputPort(\"query_object\"),\n",
    "            meshcat,\n",
    "            params\n",
    "        )\n",
    "        \n",
    "        self.diagram = builder.Build()\n",
    "        self.gripper_frame = self.plant.GetFrameByName(\"j2s7s300_end_effector\")\n",
    "        self.world_frame = self.plant.world_frame()\n",
    "        \n",
    "        context = self.CreateDefaultContext()\n",
    "        self.diagram.ForcedPublish(context)\n",
    "        \n",
    "    def visualize_frame(self, name, X_WF, length=0.15, radius=0.006):\n",
    "        AddMeshcatTriad(\n",
    "            meshcat, \"painter/\" + name, length=length, radius=radius, X_PT=X_WF\n",
    "        )\n",
    "        \n",
    "    def CreateDefaultContext(self):\n",
    "        context = self.diagram.CreateDefaultContext()\n",
    "        plant_context = self.diagram.GetMutableSubsystemContext(\n",
    "            self.plant, context\n",
    "        )\n",
    "        station_context = self.diagram.GetMutableSubsystemContext(\n",
    "            self.station, context\n",
    "        )\n",
    "        \n",
    "        # provide initial states\n",
    "        q0 = np.array(\n",
    "            [\n",
    "                1.8,\n",
    "                3.44,\n",
    "                3.14,\n",
    "                0.76,\n",
    "                4.63,\n",
    "                4.49,\n",
    "                5.03,\n",
    "            ]\n",
    "        )\n",
    "        # set the joint positions of the jaco arm\n",
    "        jaco = self.plant.GetModelInstanceByName(\"j2s7s300\")\n",
    "        self.plant.SetPositions(plant_context, jaco, q0)\n",
    "        # TODO:\n",
    "        return context\n",
    "    \n",
    "    def get_X_WG(self, context=None):\n",
    "        if not context:\n",
    "            context = self.CreateDefaultContext()\n",
    "        plant_context = self.plant.GetMyMutableContextFromRoot(context)\n",
    "        X_WG = self.plant.CalcRelativeTransform(\n",
    "            plant_context, frame_A=self.world_frame, frame_B=self.gripper_frame\n",
    "        )\n",
    "        return X_WG\n",
    "        \n",
    "    def paint(self, sim_duration=20.0):\n",
    "        context = self.CreateDefaultContext()\n",
    "        simulator = Simulator(self.diagram, context)\n",
    "        simulator.set_target_realtime_rate(1.0)\n",
    "        \n",
    "        duration = sim_duration if running_as_notebook else 0.01\n",
    "        simulator.AdcanveTo(duration)"
   ]
  },
  {
   "cell_type": "code",
   "execution_count": 40,
   "id": "0817dfbf",
   "metadata": {},
   "outputs": [
    {
     "ename": "SystemExit",
     "evalue": "Failure at bazel-out/k8-opt/bin/tools/install/libdrake/_virtual_includes/drake_shared_library/drake/multibody/plant/multibody_plant.h:2152 in SetPositions(): condition 'q_instance.size() == num_positions(model_instance)' failed.",
     "output_type": "error",
     "traceback": [
      "An exception has occurred, use %tb to see the full traceback.\n",
      "\u001b[0;31mSystemExit\u001b[0m\u001b[0;31m:\u001b[0m Failure at bazel-out/k8-opt/bin/tools/install/libdrake/_virtual_includes/drake_shared_library/drake/multibody/plant/multibody_plant.h:2152 in SetPositions(): condition 'q_instance.size() == num_positions(model_instance)' failed.\n"
     ]
    },
    {
     "name": "stderr",
     "output_type": "stream",
     "text": [
      "/usr/lib/python3/dist-packages/IPython/core/interactiveshell.py:3465: UserWarning: To exit: use 'exit', 'quit', or Ctrl-D.\n",
      "  warn(\"To exit: use 'exit', 'quit', or Ctrl-D.\", stacklevel=1)\n"
     ]
    }
   ],
   "source": [
    "painter = Jaco_Painter()"
   ]
  },
  {
   "cell_type": "code",
   "execution_count": 41,
   "id": "e043a2f9",
   "metadata": {},
   "outputs": [],
   "source": [
    "X_WG = painter.get_X_WG()\n",
    "painter.visualize_frame(\"gripper_current\", X_WG)"
   ]
  },
  {
   "cell_type": "code",
   "execution_count": null,
   "id": "a83accf4",
   "metadata": {},
   "outputs": [],
   "source": []
  }
 ],
 "metadata": {
  "kernelspec": {
   "display_name": "Python 3 (ipykernel)",
   "language": "python",
   "name": "python3"
  },
  "language_info": {
   "codemirror_mode": {
    "name": "ipython",
    "version": 3
   },
   "file_extension": ".py",
   "mimetype": "text/x-python",
   "name": "python",
   "nbconvert_exporter": "python",
   "pygments_lexer": "ipython3",
   "version": "3.10.6"
  }
 },
 "nbformat": 4,
 "nbformat_minor": 5
}
